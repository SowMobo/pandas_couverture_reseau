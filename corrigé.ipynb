{
 "cells": [
  {
   "cell_type": "code",
   "execution_count": 1,
   "metadata": {},
   "outputs": [],
   "source": [
    "import pandas as pd"
   ]
  },
  {
   "cell_type": "markdown",
   "metadata": {},
   "source": [
    "## Énoncé\n",
    "Après avoir regardé le dernier reportage d'un magasine d'investigation sur l'industrie pharmaceutique, vous vous posez dorénavant beaucoup de questions. Afin de vous faire votre propre opinion de ce vaste monde vous avez pris l'initiative d'enquêter avec vos compétences en data science. Après un rapide tour d'horizon des données à disposition, vous vous tournez une fois de plus vers l'open data.\n",
    "\n",
    "## Mission\n",
    "L'Agence nationale de sécurité du médicament et la haute autorité de santé mettent à disposition en open data plusieurs fichiers référençant les médicaments disponibles sur le territoire français. Sont disponibles des informations comme la dénomination du médicament, la forme pharmaceutique, le statut de la mise sur le marché, le prix, le taux de remboursement, les substances actives et bien d'autres !\n",
    "\n",
    "Il est donc tant de partir enquêter, **il faut d'abord se familiariser avec les données, nettoyer puis analyser !**"
   ]
  },
  {
   "cell_type": "markdown",
   "metadata": {},
   "source": [
    "# Exercice\n",
    "## Partie 1 - Analyse des mises sur le marché (50 minutes)\n",
    "### 1 - Chargement des données\n",
    "<img src='./oc2.png' width=15px /> Téléchargez le fichier des spécialités `CIS_bdpm.txt` disponible [ici](http://base-donnees-publique.medicaments.gouv.fr/telechargement.php?fichier=CIS_bdpm.txt) puis chargez le à l'aide de Pandas. Stockez le résultat du chargement dans la variable `df_spe`.\n",
    "\n",
    "Comme indiqué dans [la documentation des données](http://base-donnees-publique.medicaments.gouv.fr/docs/Contenu_et_format_des_fichiers_telechargeables_dans_la_BDM_v1.pdf), les colonnes du fichier sont uniquement séparées par des tabulations.\n",
    "\n",
    "**Petit coup de pouce pour démarrer**, pour chacune des conditions suivantes, trouvez le paramètre de la fonction `read_csv` adapté :\n",
    "- les colonnes sont séparées par des tabulations\n",
    "- il n'y a pas de header (ligne contenant le nom des colonnes)\n",
    "- l'encodage à utiliser est *iso-8859-1*"
   ]
  },
  {
   "cell_type": "code",
   "execution_count": 2,
   "metadata": {},
   "outputs": [],
   "source": [
    "df_spe = pd.read_csv('data/CIS_bdpm.txt', header=None, sep='\\t', encoding='iso-8859-1')"
   ]
  },
  {
   "cell_type": "markdown",
   "metadata": {},
   "source": [
    " \n",
    " "
   ]
  },
  {
   "cell_type": "markdown",
   "metadata": {},
   "source": [
    "<img src='./oc2.png' width=15px /> Pouvez-vous afficher les 5 premières lignes du dataframe pour vérifier que les données sont bien chargées ?"
   ]
  },
  {
   "cell_type": "code",
   "execution_count": 3,
   "metadata": {},
   "outputs": [
    {
     "data": {
      "text/html": [
       "<div>\n",
       "<style scoped>\n",
       "    .dataframe tbody tr th:only-of-type {\n",
       "        vertical-align: middle;\n",
       "    }\n",
       "\n",
       "    .dataframe tbody tr th {\n",
       "        vertical-align: top;\n",
       "    }\n",
       "\n",
       "    .dataframe thead th {\n",
       "        text-align: right;\n",
       "    }\n",
       "</style>\n",
       "<table border=\"1\" class=\"dataframe\">\n",
       "  <thead>\n",
       "    <tr style=\"text-align: right;\">\n",
       "      <th></th>\n",
       "      <th>0</th>\n",
       "      <th>1</th>\n",
       "      <th>2</th>\n",
       "      <th>3</th>\n",
       "      <th>4</th>\n",
       "      <th>5</th>\n",
       "      <th>6</th>\n",
       "      <th>7</th>\n",
       "      <th>8</th>\n",
       "      <th>9</th>\n",
       "      <th>10</th>\n",
       "      <th>11</th>\n",
       "    </tr>\n",
       "  </thead>\n",
       "  <tbody>\n",
       "    <tr>\n",
       "      <th>0</th>\n",
       "      <td>61266250</td>\n",
       "      <td>A 313 200 000 UI POUR CENT, pommade</td>\n",
       "      <td>pommade</td>\n",
       "      <td>cutanée</td>\n",
       "      <td>Autorisation active</td>\n",
       "      <td>Procédure nationale</td>\n",
       "      <td>Commercialisée</td>\n",
       "      <td>12/03/1998</td>\n",
       "      <td>NaN</td>\n",
       "      <td>NaN</td>\n",
       "      <td>PHARMA DEVELOPPEMENT</td>\n",
       "      <td>Non</td>\n",
       "    </tr>\n",
       "    <tr>\n",
       "      <th>1</th>\n",
       "      <td>62869109</td>\n",
       "      <td>A 313 50 000 U.I., capsule molle</td>\n",
       "      <td>capsule molle</td>\n",
       "      <td>orale</td>\n",
       "      <td>Autorisation active</td>\n",
       "      <td>Procédure nationale</td>\n",
       "      <td>Commercialisée</td>\n",
       "      <td>07/07/1997</td>\n",
       "      <td>NaN</td>\n",
       "      <td>NaN</td>\n",
       "      <td>PHARMA DEVELOPPEMENT</td>\n",
       "      <td>Non</td>\n",
       "    </tr>\n",
       "    <tr>\n",
       "      <th>2</th>\n",
       "      <td>62401060</td>\n",
       "      <td>ABACAVIR MYLAN 300 mg, comprimé pelliculé sécable</td>\n",
       "      <td>comprimé pelliculé sécable</td>\n",
       "      <td>orale</td>\n",
       "      <td>Autorisation active</td>\n",
       "      <td>Procédure décentralisée</td>\n",
       "      <td>Commercialisée</td>\n",
       "      <td>21/02/2018</td>\n",
       "      <td>NaN</td>\n",
       "      <td>NaN</td>\n",
       "      <td>MYLAN SAS</td>\n",
       "      <td>Non</td>\n",
       "    </tr>\n",
       "    <tr>\n",
       "      <th>3</th>\n",
       "      <td>63797011</td>\n",
       "      <td>ABACAVIR SANDOZ 300 mg, comprimé pelliculé séc...</td>\n",
       "      <td>comprimé pelliculé sécable</td>\n",
       "      <td>orale</td>\n",
       "      <td>Autorisation active</td>\n",
       "      <td>Procédure décentralisée</td>\n",
       "      <td>Commercialisée</td>\n",
       "      <td>30/12/2016</td>\n",
       "      <td>NaN</td>\n",
       "      <td>NaN</td>\n",
       "      <td>SANDOZ</td>\n",
       "      <td>Non</td>\n",
       "    </tr>\n",
       "    <tr>\n",
       "      <th>4</th>\n",
       "      <td>62828870</td>\n",
       "      <td>ABACAVIR/LAMIVUDINE ARROW 600 mg/300 mg, compr...</td>\n",
       "      <td>comprimé pelliculé</td>\n",
       "      <td>orale</td>\n",
       "      <td>Autorisation active</td>\n",
       "      <td>Procédure décentralisée</td>\n",
       "      <td>Commercialisée</td>\n",
       "      <td>15/12/2017</td>\n",
       "      <td>NaN</td>\n",
       "      <td>NaN</td>\n",
       "      <td>ARROW GENERIQUES</td>\n",
       "      <td>Non</td>\n",
       "    </tr>\n",
       "  </tbody>\n",
       "</table>\n",
       "</div>"
      ],
      "text/plain": [
       "         0                                                  1   \\\n",
       "0  61266250                A 313 200 000 UI POUR CENT, pommade   \n",
       "1  62869109                   A 313 50 000 U.I., capsule molle   \n",
       "2  62401060  ABACAVIR MYLAN 300 mg, comprimé pelliculé sécable   \n",
       "3  63797011  ABACAVIR SANDOZ 300 mg, comprimé pelliculé séc...   \n",
       "4  62828870  ABACAVIR/LAMIVUDINE ARROW 600 mg/300 mg, compr...   \n",
       "\n",
       "                           2        3                    4   \\\n",
       "0                     pommade  cutanée  Autorisation active   \n",
       "1               capsule molle    orale  Autorisation active   \n",
       "2  comprimé pelliculé sécable    orale  Autorisation active   \n",
       "3  comprimé pelliculé sécable    orale  Autorisation active   \n",
       "4          comprimé pelliculé    orale  Autorisation active   \n",
       "\n",
       "                        5               6           7    8    9   \\\n",
       "0      Procédure nationale  Commercialisée  12/03/1998  NaN  NaN   \n",
       "1      Procédure nationale  Commercialisée  07/07/1997  NaN  NaN   \n",
       "2  Procédure décentralisée  Commercialisée  21/02/2018  NaN  NaN   \n",
       "3  Procédure décentralisée  Commercialisée  30/12/2016  NaN  NaN   \n",
       "4  Procédure décentralisée  Commercialisée  15/12/2017  NaN  NaN   \n",
       "\n",
       "                      10   11  \n",
       "0   PHARMA DEVELOPPEMENT  Non  \n",
       "1   PHARMA DEVELOPPEMENT  Non  \n",
       "2              MYLAN SAS  Non  \n",
       "3                 SANDOZ  Non  \n",
       "4       ARROW GENERIQUES  Non  "
      ]
     },
     "execution_count": 3,
     "metadata": {},
     "output_type": "execute_result"
    }
   ],
   "source": [
    "df_spe.head(5)"
   ]
  },
  {
   "cell_type": "markdown",
   "metadata": {},
   "source": [
    "C'est une façon très simple de vérifier que des données sont correctement chargées, il ne faut jamais s'en priver. \n",
    "\n",
    "On voit d'ailleurs ici que le nom des colonnes est absent, il faut corriger cela en utilisant le fichier de description des données."
   ]
  },
  {
   "cell_type": "markdown",
   "metadata": {},
   "source": [
    " \n",
    " "
   ]
  },
  {
   "cell_type": "markdown",
   "metadata": {},
   "source": [
    "<img src='./oc2.png' width=15px /> Remplacez le nom des colonnes par le descriptif suivant :"
   ]
  },
  {
   "cell_type": "code",
   "execution_count": 4,
   "metadata": {},
   "outputs": [],
   "source": [
    "col_names = ['Code CIS',\n",
    "             'Dénomination',\n",
    "             'Forme Pharmaceutique',\n",
    "             'Voies Administration',\n",
    "             'Statut Administratif',\n",
    "             'Type Procédure',\n",
    "             'Etat Commercialisation',\n",
    "             'Date AMM',\n",
    "             'Statut Bdm',\n",
    "             'Numéro Autorisation',\n",
    "             'Titulaires',\n",
    "             'Surveillance']"
   ]
  },
  {
   "cell_type": "code",
   "execution_count": 5,
   "metadata": {},
   "outputs": [],
   "source": [
    "df_spe.columns = col_names"
   ]
  },
  {
   "cell_type": "markdown",
   "metadata": {},
   "source": [
    " \n",
    " "
   ]
  },
  {
   "cell_type": "markdown",
   "metadata": {},
   "source": [
    "<img src='./oc2.png' width=15px /> Affichez de nouveau les 5 premières lignes."
   ]
  },
  {
   "cell_type": "code",
   "execution_count": 6,
   "metadata": {},
   "outputs": [
    {
     "data": {
      "text/html": [
       "<div>\n",
       "<style scoped>\n",
       "    .dataframe tbody tr th:only-of-type {\n",
       "        vertical-align: middle;\n",
       "    }\n",
       "\n",
       "    .dataframe tbody tr th {\n",
       "        vertical-align: top;\n",
       "    }\n",
       "\n",
       "    .dataframe thead th {\n",
       "        text-align: right;\n",
       "    }\n",
       "</style>\n",
       "<table border=\"1\" class=\"dataframe\">\n",
       "  <thead>\n",
       "    <tr style=\"text-align: right;\">\n",
       "      <th></th>\n",
       "      <th>Code CIS</th>\n",
       "      <th>Dénomination</th>\n",
       "      <th>Forme Pharmaceutique</th>\n",
       "      <th>Voies Administration</th>\n",
       "      <th>Statut Administratif</th>\n",
       "      <th>Type Procédure</th>\n",
       "      <th>Etat Commercialisation</th>\n",
       "      <th>Date AMM</th>\n",
       "      <th>Statut Bdm</th>\n",
       "      <th>Numéro Autorisation</th>\n",
       "      <th>Titulaires</th>\n",
       "      <th>Surveillance</th>\n",
       "    </tr>\n",
       "  </thead>\n",
       "  <tbody>\n",
       "    <tr>\n",
       "      <th>0</th>\n",
       "      <td>61266250</td>\n",
       "      <td>A 313 200 000 UI POUR CENT, pommade</td>\n",
       "      <td>pommade</td>\n",
       "      <td>cutanée</td>\n",
       "      <td>Autorisation active</td>\n",
       "      <td>Procédure nationale</td>\n",
       "      <td>Commercialisée</td>\n",
       "      <td>12/03/1998</td>\n",
       "      <td>NaN</td>\n",
       "      <td>NaN</td>\n",
       "      <td>PHARMA DEVELOPPEMENT</td>\n",
       "      <td>Non</td>\n",
       "    </tr>\n",
       "    <tr>\n",
       "      <th>1</th>\n",
       "      <td>62869109</td>\n",
       "      <td>A 313 50 000 U.I., capsule molle</td>\n",
       "      <td>capsule molle</td>\n",
       "      <td>orale</td>\n",
       "      <td>Autorisation active</td>\n",
       "      <td>Procédure nationale</td>\n",
       "      <td>Commercialisée</td>\n",
       "      <td>07/07/1997</td>\n",
       "      <td>NaN</td>\n",
       "      <td>NaN</td>\n",
       "      <td>PHARMA DEVELOPPEMENT</td>\n",
       "      <td>Non</td>\n",
       "    </tr>\n",
       "    <tr>\n",
       "      <th>2</th>\n",
       "      <td>62401060</td>\n",
       "      <td>ABACAVIR MYLAN 300 mg, comprimé pelliculé sécable</td>\n",
       "      <td>comprimé pelliculé sécable</td>\n",
       "      <td>orale</td>\n",
       "      <td>Autorisation active</td>\n",
       "      <td>Procédure décentralisée</td>\n",
       "      <td>Commercialisée</td>\n",
       "      <td>21/02/2018</td>\n",
       "      <td>NaN</td>\n",
       "      <td>NaN</td>\n",
       "      <td>MYLAN SAS</td>\n",
       "      <td>Non</td>\n",
       "    </tr>\n",
       "    <tr>\n",
       "      <th>3</th>\n",
       "      <td>63797011</td>\n",
       "      <td>ABACAVIR SANDOZ 300 mg, comprimé pelliculé séc...</td>\n",
       "      <td>comprimé pelliculé sécable</td>\n",
       "      <td>orale</td>\n",
       "      <td>Autorisation active</td>\n",
       "      <td>Procédure décentralisée</td>\n",
       "      <td>Commercialisée</td>\n",
       "      <td>30/12/2016</td>\n",
       "      <td>NaN</td>\n",
       "      <td>NaN</td>\n",
       "      <td>SANDOZ</td>\n",
       "      <td>Non</td>\n",
       "    </tr>\n",
       "    <tr>\n",
       "      <th>4</th>\n",
       "      <td>62828870</td>\n",
       "      <td>ABACAVIR/LAMIVUDINE ARROW 600 mg/300 mg, compr...</td>\n",
       "      <td>comprimé pelliculé</td>\n",
       "      <td>orale</td>\n",
       "      <td>Autorisation active</td>\n",
       "      <td>Procédure décentralisée</td>\n",
       "      <td>Commercialisée</td>\n",
       "      <td>15/12/2017</td>\n",
       "      <td>NaN</td>\n",
       "      <td>NaN</td>\n",
       "      <td>ARROW GENERIQUES</td>\n",
       "      <td>Non</td>\n",
       "    </tr>\n",
       "  </tbody>\n",
       "</table>\n",
       "</div>"
      ],
      "text/plain": [
       "   Code CIS                                       Dénomination  \\\n",
       "0  61266250                A 313 200 000 UI POUR CENT, pommade   \n",
       "1  62869109                   A 313 50 000 U.I., capsule molle   \n",
       "2  62401060  ABACAVIR MYLAN 300 mg, comprimé pelliculé sécable   \n",
       "3  63797011  ABACAVIR SANDOZ 300 mg, comprimé pelliculé séc...   \n",
       "4  62828870  ABACAVIR/LAMIVUDINE ARROW 600 mg/300 mg, compr...   \n",
       "\n",
       "         Forme Pharmaceutique Voies Administration Statut Administratif  \\\n",
       "0                     pommade              cutanée  Autorisation active   \n",
       "1               capsule molle                orale  Autorisation active   \n",
       "2  comprimé pelliculé sécable                orale  Autorisation active   \n",
       "3  comprimé pelliculé sécable                orale  Autorisation active   \n",
       "4          comprimé pelliculé                orale  Autorisation active   \n",
       "\n",
       "            Type Procédure Etat Commercialisation    Date AMM Statut Bdm  \\\n",
       "0      Procédure nationale         Commercialisée  12/03/1998        NaN   \n",
       "1      Procédure nationale         Commercialisée  07/07/1997        NaN   \n",
       "2  Procédure décentralisée         Commercialisée  21/02/2018        NaN   \n",
       "3  Procédure décentralisée         Commercialisée  30/12/2016        NaN   \n",
       "4  Procédure décentralisée         Commercialisée  15/12/2017        NaN   \n",
       "\n",
       "  Numéro Autorisation             Titulaires Surveillance  \n",
       "0                 NaN   PHARMA DEVELOPPEMENT          Non  \n",
       "1                 NaN   PHARMA DEVELOPPEMENT          Non  \n",
       "2                 NaN              MYLAN SAS          Non  \n",
       "3                 NaN                 SANDOZ          Non  \n",
       "4                 NaN       ARROW GENERIQUES          Non  "
      ]
     },
     "execution_count": 6,
     "metadata": {},
     "output_type": "execute_result"
    }
   ],
   "source": [
    "df_spe.head(5)"
   ]
  },
  {
   "cell_type": "markdown",
   "metadata": {},
   "source": [
    " \n",
    " "
   ]
  },
  {
   "cell_type": "markdown",
   "metadata": {},
   "source": [
    "<img src='./oc2.png' width=15px /> Affichez les 10 premières lignes de la colonne Dénomination à l'aide de la fonction `iloc`."
   ]
  },
  {
   "cell_type": "code",
   "execution_count": 7,
   "metadata": {},
   "outputs": [
    {
     "data": {
      "text/html": [
       "<div>\n",
       "<style scoped>\n",
       "    .dataframe tbody tr th:only-of-type {\n",
       "        vertical-align: middle;\n",
       "    }\n",
       "\n",
       "    .dataframe tbody tr th {\n",
       "        vertical-align: top;\n",
       "    }\n",
       "\n",
       "    .dataframe thead th {\n",
       "        text-align: right;\n",
       "    }\n",
       "</style>\n",
       "<table border=\"1\" class=\"dataframe\">\n",
       "  <thead>\n",
       "    <tr style=\"text-align: right;\">\n",
       "      <th></th>\n",
       "      <th>Dénomination</th>\n",
       "    </tr>\n",
       "  </thead>\n",
       "  <tbody>\n",
       "    <tr>\n",
       "      <th>0</th>\n",
       "      <td>A 313 200 000 UI POUR CENT, pommade</td>\n",
       "    </tr>\n",
       "    <tr>\n",
       "      <th>1</th>\n",
       "      <td>A 313 50 000 U.I., capsule molle</td>\n",
       "    </tr>\n",
       "    <tr>\n",
       "      <th>2</th>\n",
       "      <td>ABACAVIR MYLAN 300 mg, comprimé pelliculé sécable</td>\n",
       "    </tr>\n",
       "    <tr>\n",
       "      <th>3</th>\n",
       "      <td>ABACAVIR SANDOZ 300 mg, comprimé pelliculé séc...</td>\n",
       "    </tr>\n",
       "    <tr>\n",
       "      <th>4</th>\n",
       "      <td>ABACAVIR/LAMIVUDINE ARROW 600 mg/300 mg, compr...</td>\n",
       "    </tr>\n",
       "    <tr>\n",
       "      <th>5</th>\n",
       "      <td>ABACAVIR/LAMIVUDINE BIOGARAN 600 mg/300 mg, co...</td>\n",
       "    </tr>\n",
       "    <tr>\n",
       "      <th>6</th>\n",
       "      <td>ABACAVIR/LAMIVUDINE EG 600 mg/300 mg, comprimé...</td>\n",
       "    </tr>\n",
       "    <tr>\n",
       "      <th>7</th>\n",
       "      <td>ABACAVIR/LAMIVUDINE MYLAN 600 mg/300 mg, compr...</td>\n",
       "    </tr>\n",
       "    <tr>\n",
       "      <th>8</th>\n",
       "      <td>ABACAVIR/LAMIVUDINE SANDOZ 600 mg/300 mg, comp...</td>\n",
       "    </tr>\n",
       "    <tr>\n",
       "      <th>9</th>\n",
       "      <td>ABACAVIR/LAMIVUDINE TEVA 600 mg/300 mg, compri...</td>\n",
       "    </tr>\n",
       "  </tbody>\n",
       "</table>\n",
       "</div>"
      ],
      "text/plain": [
       "                                        Dénomination\n",
       "0                A 313 200 000 UI POUR CENT, pommade\n",
       "1                   A 313 50 000 U.I., capsule molle\n",
       "2  ABACAVIR MYLAN 300 mg, comprimé pelliculé sécable\n",
       "3  ABACAVIR SANDOZ 300 mg, comprimé pelliculé séc...\n",
       "4  ABACAVIR/LAMIVUDINE ARROW 600 mg/300 mg, compr...\n",
       "5  ABACAVIR/LAMIVUDINE BIOGARAN 600 mg/300 mg, co...\n",
       "6  ABACAVIR/LAMIVUDINE EG 600 mg/300 mg, comprimé...\n",
       "7  ABACAVIR/LAMIVUDINE MYLAN 600 mg/300 mg, compr...\n",
       "8  ABACAVIR/LAMIVUDINE SANDOZ 600 mg/300 mg, comp...\n",
       "9  ABACAVIR/LAMIVUDINE TEVA 600 mg/300 mg, compri..."
      ]
     },
     "execution_count": 7,
     "metadata": {},
     "output_type": "execute_result"
    }
   ],
   "source": [
    "df_spe.iloc[:10, 1:2]"
   ]
  },
  {
   "cell_type": "markdown",
   "metadata": {},
   "source": [
    " \n",
    " "
   ]
  },
  {
   "cell_type": "markdown",
   "metadata": {},
   "source": [
    "### 2 - Le dataframe\n",
    "\n",
    "<img src='./oc2.png' width=15px /> Combien de lignes et colonnes sont contenues dans `df_spe` ?"
   ]
  },
  {
   "cell_type": "code",
   "execution_count": 8,
   "metadata": {},
   "outputs": [
    {
     "data": {
      "text/plain": [
       "(15203, 12)"
      ]
     },
     "execution_count": 8,
     "metadata": {},
     "output_type": "execute_result"
    }
   ],
   "source": [
    "df_spe.shape"
   ]
  },
  {
   "cell_type": "markdown",
   "metadata": {},
   "source": [
    " \n",
    " "
   ]
  },
  {
   "cell_type": "markdown",
   "metadata": {},
   "source": [
    "<img src='./oc2.png' width=15px /> Maintenant il serait utile d'avoir quelques **info**rmations sur le type de chacune des colonnes."
   ]
  },
  {
   "cell_type": "code",
   "execution_count": 9,
   "metadata": {},
   "outputs": [
    {
     "name": "stdout",
     "output_type": "stream",
     "text": [
      "<class 'pandas.core.frame.DataFrame'>\n",
      "RangeIndex: 15203 entries, 0 to 15202\n",
      "Data columns (total 12 columns):\n",
      " #   Column                  Non-Null Count  Dtype \n",
      "---  ------                  --------------  ----- \n",
      " 0   Code CIS                15203 non-null  int64 \n",
      " 1   Dénomination            15203 non-null  object\n",
      " 2   Forme Pharmaceutique    15203 non-null  object\n",
      " 3   Voies Administration    15203 non-null  object\n",
      " 4   Statut Administratif    15203 non-null  object\n",
      " 5   Type Procédure          15203 non-null  object\n",
      " 6   Etat Commercialisation  15203 non-null  object\n",
      " 7   Date AMM                15203 non-null  object\n",
      " 8   Statut Bdm              1947 non-null   object\n",
      " 9   Numéro Autorisation     1698 non-null   object\n",
      " 10  Titulaires              15203 non-null  object\n",
      " 11  Surveillance            15203 non-null  object\n",
      "dtypes: int64(1), object(11)\n",
      "memory usage: 1.4+ MB\n"
     ]
    }
   ],
   "source": [
    "df_spe.info()"
   ]
  },
  {
   "cell_type": "markdown",
   "metadata": {},
   "source": [
    "Il y a presque exclusivement des colonnes de type `object`, elles correspondent à des chaines de caractères. Le jeu de données utilise 1.4 Mo de mémoire RAM (c'est très peu)."
   ]
  },
  {
   "cell_type": "markdown",
   "metadata": {},
   "source": [
    " \n",
    " "
   ]
  },
  {
   "cell_type": "markdown",
   "metadata": {},
   "source": [
    "<img src='./oc2.png' width=15px /> La colonne Date AMM qui est une date, n'est pas bien typée, corrigez cela en utilisant un type `datetime64`."
   ]
  },
  {
   "cell_type": "code",
   "execution_count": 10,
   "metadata": {},
   "outputs": [],
   "source": [
    "df_spe['Date AMM'] = pd.to_datetime(df_spe['Date AMM'], format='%d/%m/%Y')"
   ]
  },
  {
   "cell_type": "markdown",
   "metadata": {},
   "source": [
    " \n",
    " "
   ]
  },
  {
   "cell_type": "markdown",
   "metadata": {},
   "source": [
    "### 3 - Qualité des données\n",
    "\n",
    "<img src='./oc2.png' width=15px /> Quel est le pourcentage de valeurs manquantes par colonne ?"
   ]
  },
  {
   "cell_type": "code",
   "execution_count": 11,
   "metadata": {},
   "outputs": [
    {
     "data": {
      "text/plain": [
       "Code CIS                  0.000000\n",
       "Dénomination              0.000000\n",
       "Forme Pharmaceutique      0.000000\n",
       "Voies Administration      0.000000\n",
       "Statut Administratif      0.000000\n",
       "Type Procédure            0.000000\n",
       "Etat Commercialisation    0.000000\n",
       "Date AMM                  0.000000\n",
       "Statut Bdm                0.871933\n",
       "Numéro Autorisation       0.888312\n",
       "Titulaires                0.000000\n",
       "Surveillance              0.000000\n",
       "dtype: float64"
      ]
     },
     "execution_count": 11,
     "metadata": {},
     "output_type": "execute_result"
    }
   ],
   "source": [
    "df_spe.isna().mean(axis=0)"
   ]
  },
  {
   "cell_type": "markdown",
   "metadata": {},
   "source": [
    " \n",
    " "
   ]
  },
  {
   "cell_type": "markdown",
   "metadata": {},
   "source": [
    "<img src='./oc2.png' width=15px /> Remplacez les valeurs manquantes par la valeur `Inconnu`."
   ]
  },
  {
   "cell_type": "code",
   "execution_count": 12,
   "metadata": {},
   "outputs": [],
   "source": [
    "df_spe['Statut Bdm'] = df_spe['Statut Bdm'].fillna('Inconnu')\n",
    "df_spe['Numéro Autorisation'] = df_spe['Numéro Autorisation'].fillna('Inconnu')"
   ]
  },
  {
   "cell_type": "markdown",
   "metadata": {},
   "source": [
    " "
   ]
  },
  {
   "cell_type": "markdown",
   "metadata": {},
   "source": [
    "<img src='./oc2.png' width=15px /> Existe-t-il des duplicatas ?"
   ]
  },
  {
   "cell_type": "code",
   "execution_count": 13,
   "metadata": {},
   "outputs": [
    {
     "data": {
      "text/plain": [
       "0"
      ]
     },
     "execution_count": 13,
     "metadata": {},
     "output_type": "execute_result"
    }
   ],
   "source": [
    "df_spe.duplicated(subset=['Code CIS']).sum()"
   ]
  },
  {
   "cell_type": "markdown",
   "metadata": {},
   "source": [
    " \n",
    " "
   ]
  },
  {
   "cell_type": "markdown",
   "metadata": {},
   "source": [
    "### 4 - Analyse des données"
   ]
  },
  {
   "cell_type": "markdown",
   "metadata": {},
   "source": [
    "<img src='./oc2.png' width=15px /> Quel est le nombre de formes pharmaceutiques différentes ?"
   ]
  },
  {
   "cell_type": "code",
   "execution_count": 14,
   "metadata": {},
   "outputs": [
    {
     "data": {
      "text/plain": [
       "411"
      ]
     },
     "execution_count": 14,
     "metadata": {},
     "output_type": "execute_result"
    }
   ],
   "source": [
    "df_spe['Forme Pharmaceutique'].nunique()"
   ]
  },
  {
   "cell_type": "markdown",
   "metadata": {},
   "source": [
    " \n",
    " "
   ]
  },
  {
   "cell_type": "markdown",
   "metadata": {},
   "source": [
    "<img src='./oc2.png' width=15px /> Quel est le nombre de voies d'administration différentes ?"
   ]
  },
  {
   "cell_type": "code",
   "execution_count": 15,
   "metadata": {},
   "outputs": [
    {
     "data": {
      "text/plain": [
       "150"
      ]
     },
     "execution_count": 15,
     "metadata": {},
     "output_type": "execute_result"
    }
   ],
   "source": [
    "df_spe['Voies Administration'].nunique()"
   ]
  },
  {
   "cell_type": "markdown",
   "metadata": {},
   "source": [
    " \n",
    " "
   ]
  },
  {
   "cell_type": "markdown",
   "metadata": {},
   "source": [
    "<img src='./oc2.png' width=15px /> Quel est le nombre des mises sur le marché par année ? affichez le résultat avec un barplot."
   ]
  },
  {
   "cell_type": "code",
   "execution_count": 16,
   "metadata": {},
   "outputs": [
    {
     "data": {
      "image/png": "[encoded data removed]",
      "text/plain": [
       "<Figure size 720x360 with 1 Axes>"
      ]
     },
     "metadata": {
      "needs_background": "light"
     },
     "output_type": "display_data"
    }
   ],
   "source": [
    "med_by_year = df_spe.groupby(df_spe['Date AMM'].map(lambda x: x.year)).count()['Dénomination']\n",
    "med_by_year.plot(kind='bar', figsize=(10, 5));"
   ]
  },
  {
   "cell_type": "markdown",
   "metadata": {},
   "source": [
    " \n",
    " "
   ]
  },
  {
   "cell_type": "markdown",
   "metadata": {},
   "source": [
    "<img src='./oc2.png' width=15px /> Affichez la répartition des statuts administratifs."
   ]
  },
  {
   "cell_type": "code",
   "execution_count": 17,
   "metadata": {},
   "outputs": [
    {
     "data": {
      "text/plain": [
       "Autorisation active       14211\n",
       "Autorisation abrogée        782\n",
       "Autorisation archivée       193\n",
       "Autorisation suspendue        9\n",
       "Autorisation retirée          8\n",
       "Name: Statut Administratif, dtype: int64"
      ]
     },
     "execution_count": 17,
     "metadata": {},
     "output_type": "execute_result"
    }
   ],
   "source": [
    "df_spe['Statut Administratif'].value_counts()"
   ]
  },
  {
   "cell_type": "code",
   "execution_count": 18,
   "metadata": {},
   "outputs": [
    {
     "data": {
      "image/png": "[encoded data removed]",
      "text/plain": [
       "<Figure size 432x288 with 1 Axes>"
      ]
     },
     "metadata": {
      "needs_background": "light"
     },
     "output_type": "display_data"
    }
   ],
   "source": [
    "df_spe['Statut Administratif'].value_counts().plot(kind='barh');"
   ]
  },
  {
   "cell_type": "markdown",
   "metadata": {},
   "source": [
    " \n",
    " "
   ]
  },
  {
   "cell_type": "markdown",
   "metadata": {},
   "source": [
    "### Plus de détails sur le statut des autorisations de mise sur le marché :\n",
    "\n",
    "L’autorisation de mise sur le marché d’un médicament est dite « **archivée** » notamment dans les situations suivantes :\n",
    "\n",
    "- le titulaire n’a pas demandé son renouvellement ;\n",
    "- le médicament n’a jamais été ou n’est plus commercialisé depuis au moins trois ans (sauf exceptions).\n",
    "\n",
    "Cette situation est généralement liée à des raisons commerciales (et non à des problèmes de santé publique) et est définitive. [source](https://solidarites-sante.gouv.fr/soins-et-maladies/medicaments/glossaire/article/autorisation-d-amm-archivee)\n",
    "\n",
    "--------\n",
    "A la demande du titulaire de l’autorisation de mise sur le marché (le plus souvent, un laboratoire pharmaceutique), une AMM peut être supprimée par l’Agence nationale de sécurité du médicament et des produits de santé (ANSM). Elle est dans ce cas dite « **abrogée** ». Cette décision est généralement motivée par le titulaire pour des raisons commerciales (et non liées à des problèmes de santé publique) et est définitive. [source](https://solidarites-sante.gouv.fr/soins-et-maladies/medicaments/glossaire/article/autorisation-d-amm-abrogee)\n",
    "\n",
    "-----------\n",
    "Le retrait d’une autorisation de mise sur le marché d’un médicament est une décision prise par la Commission européenne ou l’ANSM afin de faire cesser définitivement la distribution d’un médicament. Elle est dans ce cas dite « **retirée** ». Cette décision est prise pour des raisons de santé publique, notamment lorsqu’il apparaît que l’évaluation du bénéfice du médicament au regard des risques liés à sa qualité, à sa sécurité ou à son efficacité n’est pas considérée comme favorable. La décision de retrait d’autorisation est définitive. [source](https://solidarites-sante.gouv.fr/soins-et-maladies/medicaments/glossaire/article/autorisation-d-amm-retiree)\n",
    "\n",
    "-----------\n",
    "La suspension d’une autorisation de mise sur le marché est une mesure temporaire, le plus souvent urgente, prise par la Commission européenne ou l’ANSM, afin de faire cesser la mise à disposition d’un médicament, dans l’intérêt des patients. La durée de la suspension ne peut excéder 1 an et peut aboutir à son retrait. Elle est dans ce cas dite « **suspendue** ».\n",
    "\n",
    "En savoir plus : la décision de suspension d’AMM intervient notamment lorsqu’il apparaît que le médicament est nocif dans les conditions normales d’emploi ou que l’effet thérapeutique fait défaut ou que le médicament n’a pas la composition quantitative et qualitative déclarée.\n",
    "\n",
    "La décision de suspension d’une AMM peut être levée ou l’AMM retirée définitivement, selon les données complémentaires alors disponibles. [source](https://solidarites-sante.gouv.fr/soins-et-maladies/medicaments/glossaire/article/autorisation-d-amm-suspendue)\n",
    "\n",
    "---------"
   ]
  },
  {
   "cell_type": "markdown",
   "metadata": {},
   "source": [
    "<img src='./oc2.png' width=15px /> Les médicaments potentiellement dangeureux sont donc dans les catégories suivantes : suspendue et retirée. Quels sont les titulaires des médicaments dont l'autorisation est suspendue ou retirée ? (utiliser la fonction `isin`)"
   ]
  },
  {
   "cell_type": "code",
   "execution_count": 19,
   "metadata": {},
   "outputs": [
    {
     "data": {
      "text/plain": [
       " SANDOZ                                 2\n",
       " LES LABORATOIRES SERVIER               2\n",
       " PFIZER HOLDING FRANCE                  2\n",
       " BAYER HEALTHCARE                       2\n",
       " SANOFI AVENTIS FRANCE                  2\n",
       " GE HEALTHCARE                          2\n",
       " LABORATOIRES GERDA                     1\n",
       " GEDEON RICHTER                         1\n",
       " LABORATOIRES IPRAD PHARMA              1\n",
       " EG LABO - LABORATOIRES EUROGENERICS    1\n",
       " CRINEX                                 1\n",
       "Name: Titulaires, dtype: int64"
      ]
     },
     "execution_count": 19,
     "metadata": {},
     "output_type": "execute_result"
    }
   ],
   "source": [
    "etat_anormal = ['Autorisation suspendue', 'Autorisation retirée']\n",
    "df_spe[df_spe['Statut Administratif'].isin(etat_anormal)]['Titulaires'].value_counts()"
   ]
  },
  {
   "cell_type": "code",
   "execution_count": 20,
   "metadata": {},
   "outputs": [
    {
     "data": {
      "image/png": "[encoded data removed]",
      "text/plain": [
       "<Figure size 432x288 with 1 Axes>"
      ]
     },
     "metadata": {
      "needs_background": "light"
     },
     "output_type": "display_data"
    }
   ],
   "source": [
    "df_spe[df_spe['Statut Administratif'].isin(etat_anormal)]['Titulaires'].value_counts().plot(kind='barh');"
   ]
  },
  {
   "cell_type": "markdown",
   "metadata": {},
   "source": [
    " \n",
    " "
   ]
  },
  {
   "cell_type": "markdown",
   "metadata": {},
   "source": [
    "<img src='./oc2.png' width=15px /> Affichez la répartition des formes (uniquement pour comprimé, sirop, creme) pour les médicaments suspendus ou retirés."
   ]
  },
  {
   "cell_type": "code",
   "execution_count": 21,
   "metadata": {},
   "outputs": [
    {
     "data": {
      "text/html": [
       "<div>\n",
       "<style scoped>\n",
       "    .dataframe tbody tr th:only-of-type {\n",
       "        vertical-align: middle;\n",
       "    }\n",
       "\n",
       "    .dataframe tbody tr th {\n",
       "        vertical-align: top;\n",
       "    }\n",
       "\n",
       "    .dataframe thead th {\n",
       "        text-align: right;\n",
       "    }\n",
       "</style>\n",
       "<table border=\"1\" class=\"dataframe\">\n",
       "  <thead>\n",
       "    <tr style=\"text-align: right;\">\n",
       "      <th>Statut Administratif</th>\n",
       "      <th>Autorisation retirée</th>\n",
       "      <th>Autorisation suspendue</th>\n",
       "    </tr>\n",
       "    <tr>\n",
       "      <th>Forme Pharmaceutique</th>\n",
       "      <th></th>\n",
       "      <th></th>\n",
       "    </tr>\n",
       "  </thead>\n",
       "  <tbody>\n",
       "    <tr>\n",
       "      <th>comprimé</th>\n",
       "      <td>0</td>\n",
       "      <td>2</td>\n",
       "    </tr>\n",
       "    <tr>\n",
       "      <th>comprimé enrobé</th>\n",
       "      <td>2</td>\n",
       "      <td>0</td>\n",
       "    </tr>\n",
       "    <tr>\n",
       "      <th>comprimé pelliculé</th>\n",
       "      <td>0</td>\n",
       "      <td>2</td>\n",
       "    </tr>\n",
       "    <tr>\n",
       "      <th>crème</th>\n",
       "      <td>1</td>\n",
       "      <td>0</td>\n",
       "    </tr>\n",
       "    <tr>\n",
       "      <th>granulés</th>\n",
       "      <td>1</td>\n",
       "      <td>0</td>\n",
       "    </tr>\n",
       "    <tr>\n",
       "      <th>pommade</th>\n",
       "      <td>1</td>\n",
       "      <td>0</td>\n",
       "    </tr>\n",
       "    <tr>\n",
       "      <th>sirop</th>\n",
       "      <td>1</td>\n",
       "      <td>0</td>\n",
       "    </tr>\n",
       "    <tr>\n",
       "      <th>solution buvable</th>\n",
       "      <td>1</td>\n",
       "      <td>0</td>\n",
       "    </tr>\n",
       "    <tr>\n",
       "      <th>solution injectable</th>\n",
       "      <td>0</td>\n",
       "      <td>4</td>\n",
       "    </tr>\n",
       "    <tr>\n",
       "      <th>solution pour perfusion</th>\n",
       "      <td>0</td>\n",
       "      <td>1</td>\n",
       "    </tr>\n",
       "    <tr>\n",
       "      <th>suppositoire</th>\n",
       "      <td>1</td>\n",
       "      <td>0</td>\n",
       "    </tr>\n",
       "  </tbody>\n",
       "</table>\n",
       "</div>"
      ],
      "text/plain": [
       "Statut Administratif     Autorisation retirée  Autorisation suspendue\n",
       "Forme Pharmaceutique                                                 \n",
       "comprimé                                    0                       2\n",
       "comprimé enrobé                             2                       0\n",
       "comprimé pelliculé                          0                       2\n",
       "crème                                       1                       0\n",
       "granulés                                    1                       0\n",
       "pommade                                     1                       0\n",
       "sirop                                       1                       0\n",
       "solution buvable                            1                       0\n",
       "solution injectable                         0                       4\n",
       "solution pour perfusion                     0                       1\n",
       "suppositoire                                1                       0"
      ]
     },
     "execution_count": 21,
     "metadata": {},
     "output_type": "execute_result"
    }
   ],
   "source": [
    "forme_anormaux = df_spe[df_spe['Statut Administratif'].isin(etat_anormal)][['Forme Pharmaceutique', 'Statut Administratif']]\n",
    "pd.crosstab(forme_anormaux['Forme Pharmaceutique'], forme_anormaux['Statut Administratif'])"
   ]
  },
  {
   "cell_type": "markdown",
   "metadata": {},
   "source": [
    " \n",
    " "
   ]
  },
  {
   "cell_type": "markdown",
   "metadata": {},
   "source": [
    "<img src='./oc2.png' width=15px /> Quels sont les 10 titulaires disposant du plus grand nombre de médicaments dont l'autorisation est active."
   ]
  },
  {
   "cell_type": "code",
   "execution_count": 22,
   "metadata": {},
   "outputs": [
    {
     "data": {
      "text/plain": [
       " MYLAN SAS                              858\n",
       " ARROW GENERIQUES                       691\n",
       " BIOGARAN                               666\n",
       " EG LABO - LABORATOIRES EUROGENERICS    574\n",
       " BOIRON                                 564\n",
       " SANDOZ                                 560\n",
       " TEVA SANTE                             536\n",
       " ZENTIVA FRANCE                         430\n",
       " SANOFI AVENTIS FRANCE                  388\n",
       " LEHNING                                357\n",
       "Name: Titulaires, dtype: int64"
      ]
     },
     "execution_count": 22,
     "metadata": {},
     "output_type": "execute_result"
    }
   ],
   "source": [
    "top10_tit = df_spe[df_spe['Statut Administratif'] == 'Autorisation active']['Titulaires'].value_counts()[:10]\n",
    "top10_tit"
   ]
  },
  {
   "cell_type": "markdown",
   "metadata": {},
   "source": [
    " \n",
    " "
   ]
  },
  {
   "cell_type": "markdown",
   "metadata": {},
   "source": [
    "<img src='./oc2.png' width=15px /> On aimerait maintenant avoir une vue d'ensemble sur les statuts administratifs pour les plus grands fabricants. Affichez la répartition des statuts administratifs pour tous les médicaments des titulaires du top10."
   ]
  },
  {
   "cell_type": "code",
   "execution_count": 23,
   "metadata": {},
   "outputs": [
    {
     "data": {
      "text/html": [
       "<div>\n",
       "<style scoped>\n",
       "    .dataframe tbody tr th:only-of-type {\n",
       "        vertical-align: middle;\n",
       "    }\n",
       "\n",
       "    .dataframe tbody tr th {\n",
       "        vertical-align: top;\n",
       "    }\n",
       "\n",
       "    .dataframe thead th {\n",
       "        text-align: right;\n",
       "    }\n",
       "</style>\n",
       "<table border=\"1\" class=\"dataframe\">\n",
       "  <thead>\n",
       "    <tr style=\"text-align: right;\">\n",
       "      <th>Statut Administratif</th>\n",
       "      <th>Autorisation abrogée</th>\n",
       "      <th>Autorisation active</th>\n",
       "      <th>Autorisation archivée</th>\n",
       "      <th>Autorisation retirée</th>\n",
       "      <th>Autorisation suspendue</th>\n",
       "    </tr>\n",
       "    <tr>\n",
       "      <th>Titulaires</th>\n",
       "      <th></th>\n",
       "      <th></th>\n",
       "      <th></th>\n",
       "      <th></th>\n",
       "      <th></th>\n",
       "    </tr>\n",
       "  </thead>\n",
       "  <tbody>\n",
       "    <tr>\n",
       "      <th>ARROW GENERIQUES</th>\n",
       "      <td>38</td>\n",
       "      <td>691</td>\n",
       "      <td>16</td>\n",
       "      <td>0</td>\n",
       "      <td>0</td>\n",
       "    </tr>\n",
       "    <tr>\n",
       "      <th>BIOGARAN</th>\n",
       "      <td>0</td>\n",
       "      <td>666</td>\n",
       "      <td>19</td>\n",
       "      <td>0</td>\n",
       "      <td>0</td>\n",
       "    </tr>\n",
       "    <tr>\n",
       "      <th>BOIRON</th>\n",
       "      <td>0</td>\n",
       "      <td>564</td>\n",
       "      <td>4</td>\n",
       "      <td>0</td>\n",
       "      <td>0</td>\n",
       "    </tr>\n",
       "    <tr>\n",
       "      <th>EG LABO - LABORATOIRES EUROGENERICS</th>\n",
       "      <td>30</td>\n",
       "      <td>574</td>\n",
       "      <td>0</td>\n",
       "      <td>0</td>\n",
       "      <td>1</td>\n",
       "    </tr>\n",
       "    <tr>\n",
       "      <th>LEHNING</th>\n",
       "      <td>4</td>\n",
       "      <td>357</td>\n",
       "      <td>0</td>\n",
       "      <td>0</td>\n",
       "      <td>0</td>\n",
       "    </tr>\n",
       "    <tr>\n",
       "      <th>MYLAN SAS</th>\n",
       "      <td>44</td>\n",
       "      <td>858</td>\n",
       "      <td>5</td>\n",
       "      <td>0</td>\n",
       "      <td>0</td>\n",
       "    </tr>\n",
       "    <tr>\n",
       "      <th>SANDOZ</th>\n",
       "      <td>17</td>\n",
       "      <td>560</td>\n",
       "      <td>2</td>\n",
       "      <td>0</td>\n",
       "      <td>2</td>\n",
       "    </tr>\n",
       "    <tr>\n",
       "      <th>SANOFI AVENTIS FRANCE</th>\n",
       "      <td>25</td>\n",
       "      <td>388</td>\n",
       "      <td>3</td>\n",
       "      <td>2</td>\n",
       "      <td>0</td>\n",
       "    </tr>\n",
       "    <tr>\n",
       "      <th>TEVA SANTE</th>\n",
       "      <td>113</td>\n",
       "      <td>536</td>\n",
       "      <td>6</td>\n",
       "      <td>0</td>\n",
       "      <td>0</td>\n",
       "    </tr>\n",
       "    <tr>\n",
       "      <th>ZENTIVA FRANCE</th>\n",
       "      <td>7</td>\n",
       "      <td>430</td>\n",
       "      <td>6</td>\n",
       "      <td>0</td>\n",
       "      <td>0</td>\n",
       "    </tr>\n",
       "  </tbody>\n",
       "</table>\n",
       "</div>"
      ],
      "text/plain": [
       "Statut Administratif                  Autorisation abrogée  \\\n",
       "Titulaires                                                   \n",
       " ARROW GENERIQUES                                       38   \n",
       " BIOGARAN                                                0   \n",
       " BOIRON                                                  0   \n",
       " EG LABO - LABORATOIRES EUROGENERICS                    30   \n",
       " LEHNING                                                 4   \n",
       " MYLAN SAS                                              44   \n",
       " SANDOZ                                                 17   \n",
       " SANOFI AVENTIS FRANCE                                  25   \n",
       " TEVA SANTE                                            113   \n",
       " ZENTIVA FRANCE                                          7   \n",
       "\n",
       "Statut Administratif                  Autorisation active  \\\n",
       "Titulaires                                                  \n",
       " ARROW GENERIQUES                                     691   \n",
       " BIOGARAN                                             666   \n",
       " BOIRON                                               564   \n",
       " EG LABO - LABORATOIRES EUROGENERICS                  574   \n",
       " LEHNING                                              357   \n",
       " MYLAN SAS                                            858   \n",
       " SANDOZ                                               560   \n",
       " SANOFI AVENTIS FRANCE                                388   \n",
       " TEVA SANTE                                           536   \n",
       " ZENTIVA FRANCE                                       430   \n",
       "\n",
       "Statut Administratif                  Autorisation archivée  \\\n",
       "Titulaires                                                    \n",
       " ARROW GENERIQUES                                        16   \n",
       " BIOGARAN                                                19   \n",
       " BOIRON                                                   4   \n",
       " EG LABO - LABORATOIRES EUROGENERICS                      0   \n",
       " LEHNING                                                  0   \n",
       " MYLAN SAS                                                5   \n",
       " SANDOZ                                                   2   \n",
       " SANOFI AVENTIS FRANCE                                    3   \n",
       " TEVA SANTE                                               6   \n",
       " ZENTIVA FRANCE                                           6   \n",
       "\n",
       "Statut Administratif                  Autorisation retirée  \\\n",
       "Titulaires                                                   \n",
       " ARROW GENERIQUES                                        0   \n",
       " BIOGARAN                                                0   \n",
       " BOIRON                                                  0   \n",
       " EG LABO - LABORATOIRES EUROGENERICS                     0   \n",
       " LEHNING                                                 0   \n",
       " MYLAN SAS                                               0   \n",
       " SANDOZ                                                  0   \n",
       " SANOFI AVENTIS FRANCE                                   2   \n",
       " TEVA SANTE                                              0   \n",
       " ZENTIVA FRANCE                                          0   \n",
       "\n",
       "Statut Administratif                  Autorisation suspendue  \n",
       "Titulaires                                                    \n",
       " ARROW GENERIQUES                                          0  \n",
       " BIOGARAN                                                  0  \n",
       " BOIRON                                                    0  \n",
       " EG LABO - LABORATOIRES EUROGENERICS                       1  \n",
       " LEHNING                                                   0  \n",
       " MYLAN SAS                                                 0  \n",
       " SANDOZ                                                    2  \n",
       " SANOFI AVENTIS FRANCE                                     0  \n",
       " TEVA SANTE                                                0  \n",
       " ZENTIVA FRANCE                                            0  "
      ]
     },
     "execution_count": 23,
     "metadata": {},
     "output_type": "execute_result"
    }
   ],
   "source": [
    "med_top10 = df_spe[df_spe['Titulaires'].isin(top10_tit.index)]\n",
    "pd.crosstab(med_top10['Titulaires'], med_top10['Statut Administratif'])"
   ]
  },
  {
   "cell_type": "markdown",
   "metadata": {},
   "source": [
    " \n",
    " "
   ]
  },
  {
   "cell_type": "markdown",
   "metadata": {},
   "source": [
    "<img src='./oc2.png' width=15px /> Implémentez une fonction permettant de rechercher des médicaments par un mot clé présent dans la dénomination."
   ]
  },
  {
   "cell_type": "code",
   "execution_count": 24,
   "metadata": {},
   "outputs": [],
   "source": [
    "def find_med(df_spe, keyword):\n",
    "    sentence_list = df_spe['Dénomination'].str.lower()\n",
    "    sentence_list = sentence_list.str.replace(',', '')\n",
    "    return df_spe[sentence_list.str.contains('paracetamol')]"
   ]
  },
  {
   "cell_type": "markdown",
   "metadata": {},
   "source": [
    " "
   ]
  },
  {
   "cell_type": "markdown",
   "metadata": {},
   "source": [
    "<img src='./oc2.png' width=15px /> Utilisez la fonction pour chercher du paracetamol."
   ]
  },
  {
   "cell_type": "code",
   "execution_count": 25,
   "metadata": {},
   "outputs": [
    {
     "data": {
      "text/html": [
       "<div>\n",
       "<style scoped>\n",
       "    .dataframe tbody tr th:only-of-type {\n",
       "        vertical-align: middle;\n",
       "    }\n",
       "\n",
       "    .dataframe tbody tr th {\n",
       "        vertical-align: top;\n",
       "    }\n",
       "\n",
       "    .dataframe thead th {\n",
       "        text-align: right;\n",
       "    }\n",
       "</style>\n",
       "<table border=\"1\" class=\"dataframe\">\n",
       "  <thead>\n",
       "    <tr style=\"text-align: right;\">\n",
       "      <th></th>\n",
       "      <th>Code CIS</th>\n",
       "      <th>Dénomination</th>\n",
       "      <th>Forme Pharmaceutique</th>\n",
       "      <th>Voies Administration</th>\n",
       "      <th>Statut Administratif</th>\n",
       "      <th>Type Procédure</th>\n",
       "      <th>Etat Commercialisation</th>\n",
       "      <th>Date AMM</th>\n",
       "      <th>Statut Bdm</th>\n",
       "      <th>Numéro Autorisation</th>\n",
       "      <th>Titulaires</th>\n",
       "      <th>Surveillance</th>\n",
       "    </tr>\n",
       "  </thead>\n",
       "  <tbody>\n",
       "    <tr>\n",
       "      <th>3390</th>\n",
       "      <td>60475749</td>\n",
       "      <td>CLARIX ETAT GRIPPAL PARACETAMOL CHLORPHENAMINE...</td>\n",
       "      <td>poudre pour solution buvable</td>\n",
       "      <td>orale</td>\n",
       "      <td>Autorisation active</td>\n",
       "      <td>Procédure nationale</td>\n",
       "      <td>Non commercialisée</td>\n",
       "      <td>2014-03-30</td>\n",
       "      <td>Warning disponibilité</td>\n",
       "      <td>Inconnu</td>\n",
       "      <td>COOPER</td>\n",
       "      <td>Non</td>\n",
       "    </tr>\n",
       "    <tr>\n",
       "      <th>3599</th>\n",
       "      <td>61293112</td>\n",
       "      <td>COQUELUSEDAL PARACETAMOL 100 mg, suppositoire</td>\n",
       "      <td>suppositoire</td>\n",
       "      <td>rectale</td>\n",
       "      <td>Autorisation active</td>\n",
       "      <td>Procédure nationale</td>\n",
       "      <td>Commercialisée</td>\n",
       "      <td>2006-12-04</td>\n",
       "      <td>Inconnu</td>\n",
       "      <td>Inconnu</td>\n",
       "      <td>ELERTE</td>\n",
       "      <td>Non</td>\n",
       "    </tr>\n",
       "    <tr>\n",
       "      <th>3600</th>\n",
       "      <td>63208057</td>\n",
       "      <td>COQUELUSEDAL PARACETAMOL 250 mg, suppositoire</td>\n",
       "      <td>suppositoire</td>\n",
       "      <td>rectale</td>\n",
       "      <td>Autorisation active</td>\n",
       "      <td>Procédure nationale</td>\n",
       "      <td>Commercialisée</td>\n",
       "      <td>2009-07-15</td>\n",
       "      <td>Inconnu</td>\n",
       "      <td>Inconnu</td>\n",
       "      <td>ELERTE</td>\n",
       "      <td>Non</td>\n",
       "    </tr>\n",
       "    <tr>\n",
       "      <th>3601</th>\n",
       "      <td>64380679</td>\n",
       "      <td>COQUELUSEDAL PARACETAMOL 500 mg, suppositoire</td>\n",
       "      <td>suppositoire</td>\n",
       "      <td>rectale</td>\n",
       "      <td>Autorisation active</td>\n",
       "      <td>Procédure nationale</td>\n",
       "      <td>Commercialisée</td>\n",
       "      <td>1995-12-12</td>\n",
       "      <td>Inconnu</td>\n",
       "      <td>Inconnu</td>\n",
       "      <td>ELERTE</td>\n",
       "      <td>Non</td>\n",
       "    </tr>\n",
       "    <tr>\n",
       "      <th>4324</th>\n",
       "      <td>69742445</td>\n",
       "      <td>DOLI ETAT GRIPPAL PARACETAMOL/VITAMINE C/PHENI...</td>\n",
       "      <td>poudre pour solution buvable</td>\n",
       "      <td>orale</td>\n",
       "      <td>Autorisation active</td>\n",
       "      <td>Procédure nationale</td>\n",
       "      <td>Non commercialisée</td>\n",
       "      <td>2014-02-05</td>\n",
       "      <td>Warning disponibilité</td>\n",
       "      <td>Inconnu</td>\n",
       "      <td>SANOFI AVENTIS FRANCE</td>\n",
       "      <td>Non</td>\n",
       "    </tr>\n",
       "    <tr>\n",
       "      <th>...</th>\n",
       "      <td>...</td>\n",
       "      <td>...</td>\n",
       "      <td>...</td>\n",
       "      <td>...</td>\n",
       "      <td>...</td>\n",
       "      <td>...</td>\n",
       "      <td>...</td>\n",
       "      <td>...</td>\n",
       "      <td>...</td>\n",
       "      <td>...</td>\n",
       "      <td>...</td>\n",
       "      <td>...</td>\n",
       "    </tr>\n",
       "    <tr>\n",
       "      <th>13976</th>\n",
       "      <td>69925400</td>\n",
       "      <td>TRAMADOL/PARACETAMOL SANDOZ 37,5 mg/325 mg, co...</td>\n",
       "      <td>comprimé pelliculé</td>\n",
       "      <td>orale</td>\n",
       "      <td>Autorisation active</td>\n",
       "      <td>Procédure décentralisée</td>\n",
       "      <td>Commercialisée</td>\n",
       "      <td>2012-04-20</td>\n",
       "      <td>Inconnu</td>\n",
       "      <td>Inconnu</td>\n",
       "      <td>LABORATOIRES GRUNENTHAL</td>\n",
       "      <td>Non</td>\n",
       "    </tr>\n",
       "    <tr>\n",
       "      <th>13977</th>\n",
       "      <td>68322100</td>\n",
       "      <td>TRAMADOL/PARACETAMOL TEVA 37.5 mg/325 mg, comp...</td>\n",
       "      <td>comprimé pelliculé</td>\n",
       "      <td>orale</td>\n",
       "      <td>Autorisation active</td>\n",
       "      <td>Procédure décentralisée</td>\n",
       "      <td>Commercialisée</td>\n",
       "      <td>2013-02-15</td>\n",
       "      <td>Inconnu</td>\n",
       "      <td>Inconnu</td>\n",
       "      <td>TEVA SANTE</td>\n",
       "      <td>Non</td>\n",
       "    </tr>\n",
       "    <tr>\n",
       "      <th>13978</th>\n",
       "      <td>61227411</td>\n",
       "      <td>TRAMADOL/PARACETAMOL VENIPHARM 37,5 mg/325 mg,...</td>\n",
       "      <td>comprimé pelliculé</td>\n",
       "      <td>orale</td>\n",
       "      <td>Autorisation abrogée</td>\n",
       "      <td>Procédure nationale</td>\n",
       "      <td>Non commercialisée</td>\n",
       "      <td>2012-12-11</td>\n",
       "      <td>Warning disponibilité</td>\n",
       "      <td>Inconnu</td>\n",
       "      <td>VENIPHARM</td>\n",
       "      <td>Non</td>\n",
       "    </tr>\n",
       "    <tr>\n",
       "      <th>13979</th>\n",
       "      <td>63561242</td>\n",
       "      <td>TRAMADOL/PARACETAMOL ZENTIVA 37,5 mg/325 mg, c...</td>\n",
       "      <td>comprimé pelliculé</td>\n",
       "      <td>orale</td>\n",
       "      <td>Autorisation active</td>\n",
       "      <td>Procédure décentralisée</td>\n",
       "      <td>Commercialisée</td>\n",
       "      <td>2012-04-20</td>\n",
       "      <td>Inconnu</td>\n",
       "      <td>Inconnu</td>\n",
       "      <td>LABORATOIRES GRUNENTHAL</td>\n",
       "      <td>Non</td>\n",
       "    </tr>\n",
       "    <tr>\n",
       "      <th>13980</th>\n",
       "      <td>67594656</td>\n",
       "      <td>TRAMADOL/PARACETAMOL ZYDUS 37,5 mg/325 mg, com...</td>\n",
       "      <td>comprimé pelliculé</td>\n",
       "      <td>orale</td>\n",
       "      <td>Autorisation active</td>\n",
       "      <td>Procédure nationale</td>\n",
       "      <td>Commercialisée</td>\n",
       "      <td>2013-07-22</td>\n",
       "      <td>Inconnu</td>\n",
       "      <td>Inconnu</td>\n",
       "      <td>ZYDUS FRANCE</td>\n",
       "      <td>Non</td>\n",
       "    </tr>\n",
       "  </tbody>\n",
       "</table>\n",
       "<p>120 rows × 12 columns</p>\n",
       "</div>"
      ],
      "text/plain": [
       "       Code CIS                                       Dénomination  \\\n",
       "3390   60475749  CLARIX ETAT GRIPPAL PARACETAMOL CHLORPHENAMINE...   \n",
       "3599   61293112      COQUELUSEDAL PARACETAMOL 100 mg, suppositoire   \n",
       "3600   63208057      COQUELUSEDAL PARACETAMOL 250 mg, suppositoire   \n",
       "3601   64380679      COQUELUSEDAL PARACETAMOL 500 mg, suppositoire   \n",
       "4324   69742445  DOLI ETAT GRIPPAL PARACETAMOL/VITAMINE C/PHENI...   \n",
       "...         ...                                                ...   \n",
       "13976  69925400  TRAMADOL/PARACETAMOL SANDOZ 37,5 mg/325 mg, co...   \n",
       "13977  68322100  TRAMADOL/PARACETAMOL TEVA 37.5 mg/325 mg, comp...   \n",
       "13978  61227411  TRAMADOL/PARACETAMOL VENIPHARM 37,5 mg/325 mg,...   \n",
       "13979  63561242  TRAMADOL/PARACETAMOL ZENTIVA 37,5 mg/325 mg, c...   \n",
       "13980  67594656  TRAMADOL/PARACETAMOL ZYDUS 37,5 mg/325 mg, com...   \n",
       "\n",
       "               Forme Pharmaceutique Voies Administration  \\\n",
       "3390   poudre pour solution buvable                orale   \n",
       "3599                   suppositoire              rectale   \n",
       "3600                   suppositoire              rectale   \n",
       "3601                   suppositoire              rectale   \n",
       "4324   poudre pour solution buvable                orale   \n",
       "...                             ...                  ...   \n",
       "13976            comprimé pelliculé                orale   \n",
       "13977            comprimé pelliculé                orale   \n",
       "13978            comprimé pelliculé                orale   \n",
       "13979            comprimé pelliculé                orale   \n",
       "13980            comprimé pelliculé                orale   \n",
       "\n",
       "       Statut Administratif           Type Procédure Etat Commercialisation  \\\n",
       "3390    Autorisation active      Procédure nationale     Non commercialisée   \n",
       "3599    Autorisation active      Procédure nationale         Commercialisée   \n",
       "3600    Autorisation active      Procédure nationale         Commercialisée   \n",
       "3601    Autorisation active      Procédure nationale         Commercialisée   \n",
       "4324    Autorisation active      Procédure nationale     Non commercialisée   \n",
       "...                     ...                      ...                    ...   \n",
       "13976   Autorisation active  Procédure décentralisée         Commercialisée   \n",
       "13977   Autorisation active  Procédure décentralisée         Commercialisée   \n",
       "13978  Autorisation abrogée      Procédure nationale     Non commercialisée   \n",
       "13979   Autorisation active  Procédure décentralisée         Commercialisée   \n",
       "13980   Autorisation active      Procédure nationale         Commercialisée   \n",
       "\n",
       "        Date AMM             Statut Bdm Numéro Autorisation  \\\n",
       "3390  2014-03-30  Warning disponibilité             Inconnu   \n",
       "3599  2006-12-04                Inconnu             Inconnu   \n",
       "3600  2009-07-15                Inconnu             Inconnu   \n",
       "3601  1995-12-12                Inconnu             Inconnu   \n",
       "4324  2014-02-05  Warning disponibilité             Inconnu   \n",
       "...          ...                    ...                 ...   \n",
       "13976 2012-04-20                Inconnu             Inconnu   \n",
       "13977 2013-02-15                Inconnu             Inconnu   \n",
       "13978 2012-12-11  Warning disponibilité             Inconnu   \n",
       "13979 2012-04-20                Inconnu             Inconnu   \n",
       "13980 2013-07-22                Inconnu             Inconnu   \n",
       "\n",
       "                     Titulaires Surveillance  \n",
       "3390                     COOPER          Non  \n",
       "3599                     ELERTE          Non  \n",
       "3600                     ELERTE          Non  \n",
       "3601                     ELERTE          Non  \n",
       "4324      SANOFI AVENTIS FRANCE          Non  \n",
       "...                         ...          ...  \n",
       "13976   LABORATOIRES GRUNENTHAL          Non  \n",
       "13977                TEVA SANTE          Non  \n",
       "13978                 VENIPHARM          Non  \n",
       "13979   LABORATOIRES GRUNENTHAL          Non  \n",
       "13980              ZYDUS FRANCE          Non  \n",
       "\n",
       "[120 rows x 12 columns]"
      ]
     },
     "execution_count": 25,
     "metadata": {},
     "output_type": "execute_result"
    }
   ],
   "source": [
    "find_med(df_spe, 'paracetamol')"
   ]
  },
  {
   "cell_type": "markdown",
   "metadata": {},
   "source": [
    "-----------\n",
    "\n",
    "## Partie 2 - Analyse des prix (40 minutes)\n",
    "### 1 - Chargement des données\n",
    "\n",
    "<img src='./oc2.png' width=15px /> Téléchargez le fichier des présentations `CIS_CIP_bdpm.txt` disponible [ici](http://base-donnees-publique.medicaments.gouv.fr/telechargement.php?fichier=CIS_CIP_bdpm.txt) puis chargez le à l'aide de Pandas. Stockez le résultat du chargement dans la variable `df_pres`.\n",
    "\n",
    "Comme indiqué dans [la documentation des données](http://base-donnees-publique.medicaments.gouv.fr/docs/Contenu_et_format_des_fichiers_telechargeables_dans_la_BDM_v1.pdf), les colonnes du fichier sont uniquement séparées par des tabulations.\n",
    "\n",
    "**Petit coup de pouce pour démarrer**, pour chacune des conditions suivantes, trouvez le paramètre de la fonction `read_csv` adapté :\n",
    "- les colonnes sont séparées par des tabulations\n",
    "- il n'y a pas de header (ligne contenant le nom des colonnes)\n",
    "- l'encodage à utiliser est *iso-8859-1*"
   ]
  },
  {
   "cell_type": "code",
   "execution_count": 26,
   "metadata": {},
   "outputs": [],
   "source": [
    "df_pres = pd.read_csv('data/CIS_CIP_bdpm.txt', sep='\\t', header=None, encoding='iso-8859-1')"
   ]
  },
  {
   "cell_type": "code",
   "execution_count": 27,
   "metadata": {},
   "outputs": [
    {
     "data": {
      "text/html": [
       "<div>\n",
       "<style scoped>\n",
       "    .dataframe tbody tr th:only-of-type {\n",
       "        vertical-align: middle;\n",
       "    }\n",
       "\n",
       "    .dataframe tbody tr th {\n",
       "        vertical-align: top;\n",
       "    }\n",
       "\n",
       "    .dataframe thead th {\n",
       "        text-align: right;\n",
       "    }\n",
       "</style>\n",
       "<table border=\"1\" class=\"dataframe\">\n",
       "  <thead>\n",
       "    <tr style=\"text-align: right;\">\n",
       "      <th></th>\n",
       "      <th>0</th>\n",
       "      <th>1</th>\n",
       "      <th>2</th>\n",
       "      <th>3</th>\n",
       "      <th>4</th>\n",
       "      <th>5</th>\n",
       "      <th>6</th>\n",
       "      <th>7</th>\n",
       "      <th>8</th>\n",
       "      <th>9</th>\n",
       "      <th>10</th>\n",
       "      <th>11</th>\n",
       "      <th>12</th>\n",
       "    </tr>\n",
       "  </thead>\n",
       "  <tbody>\n",
       "    <tr>\n",
       "      <th>0</th>\n",
       "      <td>60002283</td>\n",
       "      <td>4949729</td>\n",
       "      <td>plaquette(s) PVC PVDC aluminium de 30 comprimé(s)</td>\n",
       "      <td>Présentation active</td>\n",
       "      <td>Déclaration de commercialisation</td>\n",
       "      <td>16/03/2011</td>\n",
       "      <td>3400949497294</td>\n",
       "      <td>oui</td>\n",
       "      <td>100%</td>\n",
       "      <td>30,52</td>\n",
       "      <td>31,54</td>\n",
       "      <td>1,02</td>\n",
       "      <td>NaN</td>\n",
       "    </tr>\n",
       "    <tr>\n",
       "      <th>1</th>\n",
       "      <td>60002283</td>\n",
       "      <td>4949770</td>\n",
       "      <td>plaquette(s) PVC PVDC aluminium de 90 comprimé(s)</td>\n",
       "      <td>Présentation active</td>\n",
       "      <td>Déclaration de commercialisation</td>\n",
       "      <td>19/09/2011</td>\n",
       "      <td>3400949497706</td>\n",
       "      <td>oui</td>\n",
       "      <td>100%</td>\n",
       "      <td>86,20</td>\n",
       "      <td>87,22</td>\n",
       "      <td>1,02</td>\n",
       "      <td>NaN</td>\n",
       "    </tr>\n",
       "    <tr>\n",
       "      <th>2</th>\n",
       "      <td>60002504</td>\n",
       "      <td>3320863</td>\n",
       "      <td>tube(s) polypropylène de 30 comprimé(s)</td>\n",
       "      <td>Présentation active</td>\n",
       "      <td>Déclaration de commercialisation</td>\n",
       "      <td>03/12/2003</td>\n",
       "      <td>3400933208639</td>\n",
       "      <td>oui</td>\n",
       "      <td>15%</td>\n",
       "      <td>7,20</td>\n",
       "      <td>8,22</td>\n",
       "      <td>1,02</td>\n",
       "      <td>NaN</td>\n",
       "    </tr>\n",
       "    <tr>\n",
       "      <th>3</th>\n",
       "      <td>60003620</td>\n",
       "      <td>3696350</td>\n",
       "      <td>20 récipient(s) unidose(s) polyéthylène de 2 m...</td>\n",
       "      <td>Présentation active</td>\n",
       "      <td>Déclaration de commercialisation</td>\n",
       "      <td>30/11/2006</td>\n",
       "      <td>3400936963504</td>\n",
       "      <td>oui</td>\n",
       "      <td>65%</td>\n",
       "      <td>27,60</td>\n",
       "      <td>28,62</td>\n",
       "      <td>1,02</td>\n",
       "      <td>Ce médicament peut être pris en charge ou remb...</td>\n",
       "    </tr>\n",
       "    <tr>\n",
       "      <th>4</th>\n",
       "      <td>60004277</td>\n",
       "      <td>3614582</td>\n",
       "      <td>plaquette(s) thermoformée(s) PVC aluminium de ...</td>\n",
       "      <td>Présentation active</td>\n",
       "      <td>Déclaration de commercialisation</td>\n",
       "      <td>11/06/2003</td>\n",
       "      <td>3400936145825</td>\n",
       "      <td>oui</td>\n",
       "      <td>65%</td>\n",
       "      <td>1,54</td>\n",
       "      <td>2,56</td>\n",
       "      <td>1,02</td>\n",
       "      <td>NaN</td>\n",
       "    </tr>\n",
       "  </tbody>\n",
       "</table>\n",
       "</div>"
      ],
      "text/plain": [
       "         0        1                                                  2   \\\n",
       "0  60002283  4949729  plaquette(s) PVC PVDC aluminium de 30 comprimé(s)   \n",
       "1  60002283  4949770  plaquette(s) PVC PVDC aluminium de 90 comprimé(s)   \n",
       "2  60002504  3320863            tube(s) polypropylène de 30 comprimé(s)   \n",
       "3  60003620  3696350  20 récipient(s) unidose(s) polyéthylène de 2 m...   \n",
       "4  60004277  3614582  plaquette(s) thermoformée(s) PVC aluminium de ...   \n",
       "\n",
       "                    3                                 4           5   \\\n",
       "0  Présentation active  Déclaration de commercialisation  16/03/2011   \n",
       "1  Présentation active  Déclaration de commercialisation  19/09/2011   \n",
       "2  Présentation active  Déclaration de commercialisation  03/12/2003   \n",
       "3  Présentation active  Déclaration de commercialisation  30/11/2006   \n",
       "4  Présentation active  Déclaration de commercialisation  11/06/2003   \n",
       "\n",
       "              6    7     8      9      10    11  \\\n",
       "0  3400949497294  oui  100%  30,52  31,54  1,02   \n",
       "1  3400949497706  oui  100%  86,20  87,22  1,02   \n",
       "2  3400933208639  oui   15%   7,20   8,22  1,02   \n",
       "3  3400936963504  oui   65%  27,60  28,62  1,02   \n",
       "4  3400936145825  oui   65%   1,54   2,56  1,02   \n",
       "\n",
       "                                                  12  \n",
       "0                                                NaN  \n",
       "1                                                NaN  \n",
       "2                                                NaN  \n",
       "3  Ce médicament peut être pris en charge ou remb...  \n",
       "4                                                NaN  "
      ]
     },
     "execution_count": 27,
     "metadata": {},
     "output_type": "execute_result"
    }
   ],
   "source": [
    "df_pres.head()"
   ]
  },
  {
   "cell_type": "markdown",
   "metadata": {},
   "source": [
    " "
   ]
  },
  {
   "cell_type": "markdown",
   "metadata": {},
   "source": [
    "<img src='./oc2.png' width=15px /> Remplacez le nom des colonnes par le descriptif suivant :"
   ]
  },
  {
   "cell_type": "code",
   "execution_count": 28,
   "metadata": {},
   "outputs": [],
   "source": [
    "col_names = ['Code CIS',\n",
    "             'Code CIP7',\n",
    "             'Libellé',\n",
    "             'Statut Administratif',\n",
    "             'Etat Commercialisation',\n",
    "             'Date Commercialisation',\n",
    "             'Code CIP13',\n",
    "             'Agrément',\n",
    "             'Taux de Remboursement',\n",
    "             'Prix hors honoraire',\n",
    "             'Prix honoraire compris',\n",
    "             'Honoraire de dispensation',\n",
    "             'Texte Remboursement']"
   ]
  },
  {
   "cell_type": "code",
   "execution_count": 29,
   "metadata": {},
   "outputs": [],
   "source": [
    "df_pres.columns = col_names"
   ]
  },
  {
   "cell_type": "markdown",
   "metadata": {},
   "source": [
    " "
   ]
  },
  {
   "cell_type": "markdown",
   "metadata": {},
   "source": [
    "<img src='./oc2.png' width=15px /> Supprimez les colonnes suivantes ['Code CIP7', 'Code CIP13', 'Prix honoraire compris', 'Honoraire de dispensation']. On décide de supprimer la partie honoraire de dispensation car elle ne concerne pas le fabricant, mais la distribution par la pharmacie. [source](https://sante-pratique-paris.fr/a-savoir/comprendre-les-honoraires-de-dispensation-des-pharmaciens/)"
   ]
  },
  {
   "cell_type": "code",
   "execution_count": 30,
   "metadata": {},
   "outputs": [],
   "source": [
    "df_pres = df_pres.drop(['Code CIP7', 'Code CIP13', 'Honoraire de dispensation', 'Prix honoraire compris'], axis=1)"
   ]
  },
  {
   "cell_type": "markdown",
   "metadata": {},
   "source": [
    "### 2 - Le dataframe\n",
    "\n",
    "<img src='./oc2.png' width=15px /> Combien de lignes et colonnes sont contenues dans `df_pres` ?"
   ]
  },
  {
   "cell_type": "code",
   "execution_count": 31,
   "metadata": {},
   "outputs": [
    {
     "data": {
      "text/plain": [
       "(20489, 9)"
      ]
     },
     "execution_count": 31,
     "metadata": {},
     "output_type": "execute_result"
    }
   ],
   "source": [
    "df_pres.shape"
   ]
  },
  {
   "cell_type": "markdown",
   "metadata": {},
   "source": [
    " \n",
    " "
   ]
  },
  {
   "cell_type": "markdown",
   "metadata": {},
   "source": [
    "<img src='./oc2.png' width=15px /> Maintenant il serait utile d'avoir quelques **info**rmations sur le type de chacune des colonnes."
   ]
  },
  {
   "cell_type": "code",
   "execution_count": 32,
   "metadata": {},
   "outputs": [
    {
     "name": "stdout",
     "output_type": "stream",
     "text": [
      "<class 'pandas.core.frame.DataFrame'>\n",
      "RangeIndex: 20489 entries, 0 to 20488\n",
      "Data columns (total 9 columns):\n",
      " #   Column                  Non-Null Count  Dtype \n",
      "---  ------                  --------------  ----- \n",
      " 0   Code CIS                20489 non-null  int64 \n",
      " 1   Libellé                 20489 non-null  object\n",
      " 2   Statut Administratif    20489 non-null  object\n",
      " 3   Etat Commercialisation  20489 non-null  object\n",
      " 4   Date Commercialisation  20489 non-null  object\n",
      " 5   Agrément                20489 non-null  object\n",
      " 6   Taux de Remboursement   12920 non-null  object\n",
      " 7   Prix hors honoraire     12920 non-null  object\n",
      " 8   Texte Remboursement     951 non-null    object\n",
      "dtypes: int64(1), object(8)\n",
      "memory usage: 1.4+ MB\n"
     ]
    }
   ],
   "source": [
    "df_pres.info()"
   ]
  },
  {
   "cell_type": "markdown",
   "metadata": {},
   "source": [
    " \n",
    " "
   ]
  },
  {
   "cell_type": "markdown",
   "metadata": {},
   "source": [
    "<img src='./oc2.png' width=15px /> La colonne Date Commercialisation qui est une date, n'est pas bien typée, corrigez cela en utilisant un type `datetime64`."
   ]
  },
  {
   "cell_type": "code",
   "execution_count": 33,
   "metadata": {},
   "outputs": [],
   "source": [
    "df_pres['Date Commercialisation'] = pd.to_datetime(df_pres['Date Commercialisation'], format='%d/%m/%Y')"
   ]
  },
  {
   "cell_type": "markdown",
   "metadata": {},
   "source": [
    "**Il y a encore 2 colonnes dont le type est incorrect, cependant avant de le corriger nous allons supprimer les valeurs manquantes.**"
   ]
  },
  {
   "cell_type": "markdown",
   "metadata": {},
   "source": [
    " \n",
    " "
   ]
  },
  {
   "cell_type": "markdown",
   "metadata": {},
   "source": [
    "### 3 - Qualité des données\n",
    "\n",
    "<img src='./oc2.png' width=15px /> Quel est le pourcentage de valeurs manquantes par colonne ?"
   ]
  },
  {
   "cell_type": "code",
   "execution_count": 34,
   "metadata": {},
   "outputs": [
    {
     "data": {
      "text/plain": [
       "Code CIS                  0.000000\n",
       "Libellé                   0.000000\n",
       "Statut Administratif      0.000000\n",
       "Etat Commercialisation    0.000000\n",
       "Date Commercialisation    0.000000\n",
       "Agrément                  0.000000\n",
       "Taux de Remboursement     0.369418\n",
       "Prix hors honoraire       0.369418\n",
       "Texte Remboursement       0.953585\n",
       "dtype: float64"
      ]
     },
     "execution_count": 34,
     "metadata": {},
     "output_type": "execute_result"
    }
   ],
   "source": [
    "df_pres.isna().mean(axis=0)"
   ]
  },
  {
   "cell_type": "markdown",
   "metadata": {},
   "source": [
    " \n",
    " "
   ]
  },
  {
   "cell_type": "markdown",
   "metadata": {},
   "source": [
    "<img src='./oc2.png' width=15px /> Supprimez les lignes dont le prix est manquant."
   ]
  },
  {
   "cell_type": "code",
   "execution_count": 35,
   "metadata": {},
   "outputs": [],
   "source": [
    "df_pres = df_pres.dropna(subset=['Prix hors honoraire'])"
   ]
  },
  {
   "cell_type": "markdown",
   "metadata": {},
   "source": [
    " \n",
    " "
   ]
  },
  {
   "cell_type": "markdown",
   "metadata": {},
   "source": [
    "<img src='./oc2.png' width=15px /> Supprimez la colonne Texte Remboursement qui contient trop de valeurs manquantes."
   ]
  },
  {
   "cell_type": "code",
   "execution_count": 36,
   "metadata": {},
   "outputs": [],
   "source": [
    "df_pres = df_pres.drop(['Texte Remboursement'], axis=1)"
   ]
  },
  {
   "cell_type": "markdown",
   "metadata": {},
   "source": [
    " \n",
    " "
   ]
  },
  {
   "cell_type": "markdown",
   "metadata": {},
   "source": [
    "<img src='./oc2.png' width=15px /> Nous allons maintenant pouvoir corriger le type des colonnes `Prix hors honoraire` et `Taux de Remboursement`. Afin de ne pas passer trop de temps sur cette correction, le code est déjà implémenté pour vous !"
   ]
  },
  {
   "cell_type": "code",
   "execution_count": 37,
   "metadata": {},
   "outputs": [],
   "source": [
    "# conversion d'un string en float\n",
    "# remplace la dernière virgule par un point\n",
    "# supprime les virgules restantes\n",
    "# enfin conversion de la colonne en float\n",
    "def str_to_float(col):\n",
    "    col = col.astype('str')\n",
    "    col = col.apply(lambda x: x[::-1])\n",
    "    col = col.str.replace(',', '.', n=1)\n",
    "    col = col.apply(lambda x: x[::-1])\n",
    "    col = col.str.replace(',', '')\n",
    "    return pd.to_numeric(col)\n",
    "\n",
    "# application de la fonction sur la colonne\n",
    "df_pres['Prix hors honoraire'] = str_to_float(df_pres['Prix hors honoraire'])\n",
    "# supprime le caractère pourcentage, cast en float, puis division par 100\n",
    "df_pres['Taux de Remboursement'] = pd.to_numeric(df_pres['Taux de Remboursement'].str.replace('%', '')) / 100"
   ]
  },
  {
   "cell_type": "markdown",
   "metadata": {},
   "source": [
    " \n",
    " "
   ]
  },
  {
   "cell_type": "markdown",
   "metadata": {},
   "source": [
    "<img src='./oc2.png' width=15px /> Ordonnez les lignes du dataframe en fonction de la date de commercialisation."
   ]
  },
  {
   "cell_type": "code",
   "execution_count": 38,
   "metadata": {},
   "outputs": [],
   "source": [
    "df_pres = df_pres.sort_values('Date Commercialisation', ascending=False)"
   ]
  },
  {
   "cell_type": "markdown",
   "metadata": {},
   "source": [
    " \n",
    " "
   ]
  },
  {
   "cell_type": "markdown",
   "metadata": {},
   "source": [
    "<img src='./oc2.png' width=15px /> Existe-t-il des duplicatas ? si oui, supprimez les."
   ]
  },
  {
   "cell_type": "code",
   "execution_count": 39,
   "metadata": {},
   "outputs": [
    {
     "data": {
      "text/html": [
       "<div>\n",
       "<style scoped>\n",
       "    .dataframe tbody tr th:only-of-type {\n",
       "        vertical-align: middle;\n",
       "    }\n",
       "\n",
       "    .dataframe tbody tr th {\n",
       "        vertical-align: top;\n",
       "    }\n",
       "\n",
       "    .dataframe thead th {\n",
       "        text-align: right;\n",
       "    }\n",
       "</style>\n",
       "<table border=\"1\" class=\"dataframe\">\n",
       "  <thead>\n",
       "    <tr style=\"text-align: right;\">\n",
       "      <th></th>\n",
       "      <th>Code CIS</th>\n",
       "      <th>Libellé</th>\n",
       "      <th>Statut Administratif</th>\n",
       "      <th>Etat Commercialisation</th>\n",
       "      <th>Date Commercialisation</th>\n",
       "      <th>Agrément</th>\n",
       "      <th>Taux de Remboursement</th>\n",
       "      <th>Prix hors honoraire</th>\n",
       "    </tr>\n",
       "  </thead>\n",
       "  <tbody>\n",
       "    <tr>\n",
       "      <th>17239</th>\n",
       "      <td>68362319</td>\n",
       "      <td>plaquette(s) formée(s) à froid aluminium de 28...</td>\n",
       "      <td>Présentation active</td>\n",
       "      <td>Déclaration d'arrêt de commercialisation</td>\n",
       "      <td>2017-11-14</td>\n",
       "      <td>non</td>\n",
       "      <td>0.65</td>\n",
       "      <td>17.51</td>\n",
       "    </tr>\n",
       "    <tr>\n",
       "      <th>166</th>\n",
       "      <td>60083132</td>\n",
       "      <td>plaquette(s) formée(s) à froid aluminium de 28...</td>\n",
       "      <td>Présentation active</td>\n",
       "      <td>Déclaration de commercialisation</td>\n",
       "      <td>2011-11-03</td>\n",
       "      <td>oui</td>\n",
       "      <td>0.65</td>\n",
       "      <td>11.41</td>\n",
       "    </tr>\n",
       "    <tr>\n",
       "      <th>18722</th>\n",
       "      <td>69141416</td>\n",
       "      <td>plaquette(s) thermoformée(s) PVC PVDC aluminiu...</td>\n",
       "      <td>Présentation active</td>\n",
       "      <td>Déclaration de commercialisation</td>\n",
       "      <td>2010-11-16</td>\n",
       "      <td>oui</td>\n",
       "      <td>0.30</td>\n",
       "      <td>8.02</td>\n",
       "    </tr>\n",
       "  </tbody>\n",
       "</table>\n",
       "</div>"
      ],
      "text/plain": [
       "       Code CIS                                            Libellé  \\\n",
       "17239  68362319  plaquette(s) formée(s) à froid aluminium de 28...   \n",
       "166    60083132  plaquette(s) formée(s) à froid aluminium de 28...   \n",
       "18722  69141416  plaquette(s) thermoformée(s) PVC PVDC aluminiu...   \n",
       "\n",
       "      Statut Administratif                    Etat Commercialisation  \\\n",
       "17239  Présentation active  Déclaration d'arrêt de commercialisation   \n",
       "166    Présentation active          Déclaration de commercialisation   \n",
       "18722  Présentation active          Déclaration de commercialisation   \n",
       "\n",
       "      Date Commercialisation Agrément  Taux de Remboursement  \\\n",
       "17239             2017-11-14      non                   0.65   \n",
       "166               2011-11-03      oui                   0.65   \n",
       "18722             2010-11-16      oui                   0.30   \n",
       "\n",
       "       Prix hors honoraire  \n",
       "17239                17.51  \n",
       "166                  11.41  \n",
       "18722                 8.02  "
      ]
     },
     "execution_count": 39,
     "metadata": {},
     "output_type": "execute_result"
    }
   ],
   "source": [
    "df_dupl = df_pres[df_pres.duplicated(subset=['Code CIS', 'Libellé'])]\n",
    "df_dupl"
   ]
  },
  {
   "cell_type": "code",
   "execution_count": 40,
   "metadata": {},
   "outputs": [],
   "source": [
    "df_pres = df_pres.drop(df_dupl.index, axis=0)"
   ]
  },
  {
   "cell_type": "markdown",
   "metadata": {},
   "source": [
    " \n",
    " "
   ]
  },
  {
   "cell_type": "markdown",
   "metadata": {},
   "source": [
    "### 4 - Analyse des prix"
   ]
  },
  {
   "cell_type": "markdown",
   "metadata": {},
   "source": [
    "<img src='./oc2.png' width=15px /> Il est tant de valoriser les informations de la base des spécialisations `df_spe` avec le fichier des présentations. Pour cela réaliser une jointure avec le dataframe `df_pres`, on souhaite récupérer la dénomination, la forme pharmaceutique et le titulaire."
   ]
  },
  {
   "cell_type": "code",
   "execution_count": 41,
   "metadata": {},
   "outputs": [],
   "source": [
    "df_pres_spe = df_pres.merge(df_spe[['Code CIS', 'Dénomination', 'Forme Pharmaceutique', 'Titulaires']], on='Code CIS')"
   ]
  },
  {
   "cell_type": "markdown",
   "metadata": {},
   "source": [
    " "
   ]
  },
  {
   "cell_type": "markdown",
   "metadata": {},
   "source": [
    "<img src='./oc2.png' width=15px /> Quels sont les 5 médicaments commercialisés les plus chers ?"
   ]
  },
  {
   "cell_type": "code",
   "execution_count": 42,
   "metadata": {},
   "outputs": [
    {
     "data": {
      "text/html": [
       "<div>\n",
       "<style scoped>\n",
       "    .dataframe tbody tr th:only-of-type {\n",
       "        vertical-align: middle;\n",
       "    }\n",
       "\n",
       "    .dataframe tbody tr th {\n",
       "        vertical-align: top;\n",
       "    }\n",
       "\n",
       "    .dataframe thead th {\n",
       "        text-align: right;\n",
       "    }\n",
       "</style>\n",
       "<table border=\"1\" class=\"dataframe\">\n",
       "  <thead>\n",
       "    <tr style=\"text-align: right;\">\n",
       "      <th></th>\n",
       "      <th>Code CIS</th>\n",
       "      <th>Libellé</th>\n",
       "      <th>Statut Administratif</th>\n",
       "      <th>Etat Commercialisation</th>\n",
       "      <th>Date Commercialisation</th>\n",
       "      <th>Agrément</th>\n",
       "      <th>Taux de Remboursement</th>\n",
       "      <th>Prix hors honoraire</th>\n",
       "      <th>Dénomination</th>\n",
       "      <th>Forme Pharmaceutique</th>\n",
       "      <th>Titulaires</th>\n",
       "    </tr>\n",
       "  </thead>\n",
       "  <tbody>\n",
       "    <tr>\n",
       "      <th>3038</th>\n",
       "      <td>69258437</td>\n",
       "      <td>12 flacon(s) en verre de 0,8 ml</td>\n",
       "      <td>Présentation active</td>\n",
       "      <td>Déclaration de commercialisation</td>\n",
       "      <td>2018-01-18</td>\n",
       "      <td>oui</td>\n",
       "      <td>0.65</td>\n",
       "      <td>53140.9</td>\n",
       "      <td>STRENSIQ 100 mg/ml, solution injectable</td>\n",
       "      <td>solution injectable</td>\n",
       "      <td>ALEXION EUROPE</td>\n",
       "    </tr>\n",
       "    <tr>\n",
       "      <th>3036</th>\n",
       "      <td>64450234</td>\n",
       "      <td>12 flacon(s) en verre de 1 ml</td>\n",
       "      <td>Présentation active</td>\n",
       "      <td>Déclaration de commercialisation</td>\n",
       "      <td>2018-01-18</td>\n",
       "      <td>oui</td>\n",
       "      <td>0.65</td>\n",
       "      <td>26642.2</td>\n",
       "      <td>STRENSIQ 40 mg/ml, solution injectable</td>\n",
       "      <td>solution injectable</td>\n",
       "      <td>ALEXION EUROPE</td>\n",
       "    </tr>\n",
       "    <tr>\n",
       "      <th>1943</th>\n",
       "      <td>69565055</td>\n",
       "      <td>flacon(s) polyéthylène haute densité (PEHD) de...</td>\n",
       "      <td>Présentation active</td>\n",
       "      <td>Déclaration de commercialisation</td>\n",
       "      <td>2019-01-17</td>\n",
       "      <td>oui</td>\n",
       "      <td>0.65</td>\n",
       "      <td>20620.8</td>\n",
       "      <td>LOJUXTA 20 mg, gélule</td>\n",
       "      <td>gélule</td>\n",
       "      <td>AMRYT PHARMACEUTICALS (IRLANDE)</td>\n",
       "    </tr>\n",
       "    <tr>\n",
       "      <th>1984</th>\n",
       "      <td>69243759</td>\n",
       "      <td>flacon(s) polyéthylène haute densité (PEHD) de...</td>\n",
       "      <td>Présentation active</td>\n",
       "      <td>Déclaration de commercialisation</td>\n",
       "      <td>2018-12-18</td>\n",
       "      <td>oui</td>\n",
       "      <td>0.65</td>\n",
       "      <td>20620.8</td>\n",
       "      <td>LOJUXTA 10 mg, gélule</td>\n",
       "      <td>gélule</td>\n",
       "      <td>AMRYT PHARMACEUTICALS (IRLANDE)</td>\n",
       "    </tr>\n",
       "    <tr>\n",
       "      <th>1985</th>\n",
       "      <td>69851117</td>\n",
       "      <td>flacon(s) polyéthylène haute densité (PEHD) de...</td>\n",
       "      <td>Présentation active</td>\n",
       "      <td>Déclaration de commercialisation</td>\n",
       "      <td>2018-12-18</td>\n",
       "      <td>oui</td>\n",
       "      <td>0.65</td>\n",
       "      <td>20620.8</td>\n",
       "      <td>LOJUXTA 5 mg, gélule</td>\n",
       "      <td>gélule</td>\n",
       "      <td>AMRYT PHARMACEUTICALS (IRLANDE)</td>\n",
       "    </tr>\n",
       "  </tbody>\n",
       "</table>\n",
       "</div>"
      ],
      "text/plain": [
       "      Code CIS                                            Libellé  \\\n",
       "3038  69258437                    12 flacon(s) en verre de 0,8 ml   \n",
       "3036  64450234                      12 flacon(s) en verre de 1 ml   \n",
       "1943  69565055  flacon(s) polyéthylène haute densité (PEHD) de...   \n",
       "1984  69243759  flacon(s) polyéthylène haute densité (PEHD) de...   \n",
       "1985  69851117  flacon(s) polyéthylène haute densité (PEHD) de...   \n",
       "\n",
       "     Statut Administratif            Etat Commercialisation  \\\n",
       "3038  Présentation active  Déclaration de commercialisation   \n",
       "3036  Présentation active  Déclaration de commercialisation   \n",
       "1943  Présentation active  Déclaration de commercialisation   \n",
       "1984  Présentation active  Déclaration de commercialisation   \n",
       "1985  Présentation active  Déclaration de commercialisation   \n",
       "\n",
       "     Date Commercialisation Agrément  Taux de Remboursement  \\\n",
       "3038             2018-01-18      oui                   0.65   \n",
       "3036             2018-01-18      oui                   0.65   \n",
       "1943             2019-01-17      oui                   0.65   \n",
       "1984             2018-12-18      oui                   0.65   \n",
       "1985             2018-12-18      oui                   0.65   \n",
       "\n",
       "      Prix hors honoraire                             Dénomination  \\\n",
       "3038              53140.9  STRENSIQ 100 mg/ml, solution injectable   \n",
       "3036              26642.2   STRENSIQ 40 mg/ml, solution injectable   \n",
       "1943              20620.8                    LOJUXTA 20 mg, gélule   \n",
       "1984              20620.8                    LOJUXTA 10 mg, gélule   \n",
       "1985              20620.8                     LOJUXTA 5 mg, gélule   \n",
       "\n",
       "     Forme Pharmaceutique                        Titulaires  \n",
       "3038  solution injectable                    ALEXION EUROPE  \n",
       "3036  solution injectable                    ALEXION EUROPE  \n",
       "1943               gélule   AMRYT PHARMACEUTICALS (IRLANDE)  \n",
       "1984               gélule   AMRYT PHARMACEUTICALS (IRLANDE)  \n",
       "1985               gélule   AMRYT PHARMACEUTICALS (IRLANDE)  "
      ]
     },
     "execution_count": 42,
     "metadata": {},
     "output_type": "execute_result"
    }
   ],
   "source": [
    "df_pres_comm = df_pres_spe[df_pres_spe['Etat Commercialisation'] == 'Déclaration de commercialisation']\n",
    "df_pres_comm = df_pres_comm.sort_values('Prix hors honoraire', ascending=False)\n",
    "df_pres_comm.iloc[:5]"
   ]
  },
  {
   "cell_type": "markdown",
   "metadata": {},
   "source": [
    " \n",
    " "
   ]
  },
  {
   "cell_type": "markdown",
   "metadata": {},
   "source": [
    "<img src='./oc2.png' width=15px /> On aimerait maintenant effectuer une vérification dans la base en ligne du médicament, afin d'en savoir plus sur le médicament le plus cher. **Voici le [lien](http://base-donnees-publique.medicaments.gouv.fr/index.php#result) vers la base en ligne.**"
   ]
  },
  {
   "cell_type": "code",
   "execution_count": 43,
   "metadata": {},
   "outputs": [
    {
     "data": {
      "text/html": [
       "<div>\n",
       "<style scoped>\n",
       "    .dataframe tbody tr th:only-of-type {\n",
       "        vertical-align: middle;\n",
       "    }\n",
       "\n",
       "    .dataframe tbody tr th {\n",
       "        vertical-align: top;\n",
       "    }\n",
       "\n",
       "    .dataframe thead th {\n",
       "        text-align: right;\n",
       "    }\n",
       "</style>\n",
       "<table border=\"1\" class=\"dataframe\">\n",
       "  <thead>\n",
       "    <tr style=\"text-align: right;\">\n",
       "      <th></th>\n",
       "      <th>Dénomination</th>\n",
       "      <th>Prix hors honoraire</th>\n",
       "      <th>Titulaires</th>\n",
       "    </tr>\n",
       "  </thead>\n",
       "  <tbody>\n",
       "    <tr>\n",
       "      <th>3038</th>\n",
       "      <td>STRENSIQ 100 mg/ml, solution injectable</td>\n",
       "      <td>53140.9</td>\n",
       "      <td>ALEXION EUROPE</td>\n",
       "    </tr>\n",
       "    <tr>\n",
       "      <th>3036</th>\n",
       "      <td>STRENSIQ 40 mg/ml, solution injectable</td>\n",
       "      <td>26642.2</td>\n",
       "      <td>ALEXION EUROPE</td>\n",
       "    </tr>\n",
       "    <tr>\n",
       "      <th>1943</th>\n",
       "      <td>LOJUXTA 20 mg, gélule</td>\n",
       "      <td>20620.8</td>\n",
       "      <td>AMRYT PHARMACEUTICALS (IRLANDE)</td>\n",
       "    </tr>\n",
       "    <tr>\n",
       "      <th>1984</th>\n",
       "      <td>LOJUXTA 10 mg, gélule</td>\n",
       "      <td>20620.8</td>\n",
       "      <td>AMRYT PHARMACEUTICALS (IRLANDE)</td>\n",
       "    </tr>\n",
       "    <tr>\n",
       "      <th>1985</th>\n",
       "      <td>LOJUXTA 5 mg, gélule</td>\n",
       "      <td>20620.8</td>\n",
       "      <td>AMRYT PHARMACEUTICALS (IRLANDE)</td>\n",
       "    </tr>\n",
       "  </tbody>\n",
       "</table>\n",
       "</div>"
      ],
      "text/plain": [
       "                                 Dénomination  Prix hors honoraire  \\\n",
       "3038  STRENSIQ 100 mg/ml, solution injectable              53140.9   \n",
       "3036   STRENSIQ 40 mg/ml, solution injectable              26642.2   \n",
       "1943                    LOJUXTA 20 mg, gélule              20620.8   \n",
       "1984                    LOJUXTA 10 mg, gélule              20620.8   \n",
       "1985                     LOJUXTA 5 mg, gélule              20620.8   \n",
       "\n",
       "                            Titulaires  \n",
       "3038                    ALEXION EUROPE  \n",
       "3036                    ALEXION EUROPE  \n",
       "1943   AMRYT PHARMACEUTICALS (IRLANDE)  \n",
       "1984   AMRYT PHARMACEUTICALS (IRLANDE)  \n",
       "1985   AMRYT PHARMACEUTICALS (IRLANDE)  "
      ]
     },
     "execution_count": 43,
     "metadata": {},
     "output_type": "execute_result"
    }
   ],
   "source": [
    "df_pres_comm.iloc[:5][['Dénomination', 'Prix hors honoraire', 'Titulaires']]"
   ]
  },
  {
   "cell_type": "markdown",
   "metadata": {},
   "source": [
    " "
   ]
  },
  {
   "cell_type": "markdown",
   "metadata": {},
   "source": [
    "<img src='./oc2.png' width=15px /> Quels sont les 5 médicaments qui après remboursement restent les plus chers ? dans un premier temps, créez une nouvelle colonne indiquant le prix après remboursement, puis classez le dataframe en fonction de cette dernière."
   ]
  },
  {
   "cell_type": "code",
   "execution_count": 44,
   "metadata": {},
   "outputs": [
    {
     "data": {
      "text/html": [
       "<div>\n",
       "<style scoped>\n",
       "    .dataframe tbody tr th:only-of-type {\n",
       "        vertical-align: middle;\n",
       "    }\n",
       "\n",
       "    .dataframe tbody tr th {\n",
       "        vertical-align: top;\n",
       "    }\n",
       "\n",
       "    .dataframe thead th {\n",
       "        text-align: right;\n",
       "    }\n",
       "</style>\n",
       "<table border=\"1\" class=\"dataframe\">\n",
       "  <thead>\n",
       "    <tr style=\"text-align: right;\">\n",
       "      <th></th>\n",
       "      <th>Code CIS</th>\n",
       "      <th>Libellé</th>\n",
       "      <th>Statut Administratif</th>\n",
       "      <th>Etat Commercialisation</th>\n",
       "      <th>Date Commercialisation</th>\n",
       "      <th>Agrément</th>\n",
       "      <th>Taux de Remboursement</th>\n",
       "      <th>Prix hors honoraire</th>\n",
       "      <th>Dénomination</th>\n",
       "      <th>Forme Pharmaceutique</th>\n",
       "      <th>Titulaires</th>\n",
       "      <th>Prix après remboursement</th>\n",
       "    </tr>\n",
       "  </thead>\n",
       "  <tbody>\n",
       "    <tr>\n",
       "      <th>3038</th>\n",
       "      <td>69258437</td>\n",
       "      <td>12 flacon(s) en verre de 0,8 ml</td>\n",
       "      <td>Présentation active</td>\n",
       "      <td>Déclaration de commercialisation</td>\n",
       "      <td>2018-01-18</td>\n",
       "      <td>oui</td>\n",
       "      <td>0.65</td>\n",
       "      <td>53140.9</td>\n",
       "      <td>STRENSIQ 100 mg/ml, solution injectable</td>\n",
       "      <td>solution injectable</td>\n",
       "      <td>ALEXION EUROPE</td>\n",
       "      <td>34541.585</td>\n",
       "    </tr>\n",
       "    <tr>\n",
       "      <th>3036</th>\n",
       "      <td>64450234</td>\n",
       "      <td>12 flacon(s) en verre de 1 ml</td>\n",
       "      <td>Présentation active</td>\n",
       "      <td>Déclaration de commercialisation</td>\n",
       "      <td>2018-01-18</td>\n",
       "      <td>oui</td>\n",
       "      <td>0.65</td>\n",
       "      <td>26642.2</td>\n",
       "      <td>STRENSIQ 40 mg/ml, solution injectable</td>\n",
       "      <td>solution injectable</td>\n",
       "      <td>ALEXION EUROPE</td>\n",
       "      <td>17317.430</td>\n",
       "    </tr>\n",
       "    <tr>\n",
       "      <th>1943</th>\n",
       "      <td>69565055</td>\n",
       "      <td>flacon(s) polyéthylène haute densité (PEHD) de...</td>\n",
       "      <td>Présentation active</td>\n",
       "      <td>Déclaration de commercialisation</td>\n",
       "      <td>2019-01-17</td>\n",
       "      <td>oui</td>\n",
       "      <td>0.65</td>\n",
       "      <td>20620.8</td>\n",
       "      <td>LOJUXTA 20 mg, gélule</td>\n",
       "      <td>gélule</td>\n",
       "      <td>AMRYT PHARMACEUTICALS (IRLANDE)</td>\n",
       "      <td>13403.520</td>\n",
       "    </tr>\n",
       "    <tr>\n",
       "      <th>1984</th>\n",
       "      <td>69243759</td>\n",
       "      <td>flacon(s) polyéthylène haute densité (PEHD) de...</td>\n",
       "      <td>Présentation active</td>\n",
       "      <td>Déclaration de commercialisation</td>\n",
       "      <td>2018-12-18</td>\n",
       "      <td>oui</td>\n",
       "      <td>0.65</td>\n",
       "      <td>20620.8</td>\n",
       "      <td>LOJUXTA 10 mg, gélule</td>\n",
       "      <td>gélule</td>\n",
       "      <td>AMRYT PHARMACEUTICALS (IRLANDE)</td>\n",
       "      <td>13403.520</td>\n",
       "    </tr>\n",
       "    <tr>\n",
       "      <th>1985</th>\n",
       "      <td>69851117</td>\n",
       "      <td>flacon(s) polyéthylène haute densité (PEHD) de...</td>\n",
       "      <td>Présentation active</td>\n",
       "      <td>Déclaration de commercialisation</td>\n",
       "      <td>2018-12-18</td>\n",
       "      <td>oui</td>\n",
       "      <td>0.65</td>\n",
       "      <td>20620.8</td>\n",
       "      <td>LOJUXTA 5 mg, gélule</td>\n",
       "      <td>gélule</td>\n",
       "      <td>AMRYT PHARMACEUTICALS (IRLANDE)</td>\n",
       "      <td>13403.520</td>\n",
       "    </tr>\n",
       "  </tbody>\n",
       "</table>\n",
       "</div>"
      ],
      "text/plain": [
       "      Code CIS                                            Libellé  \\\n",
       "3038  69258437                    12 flacon(s) en verre de 0,8 ml   \n",
       "3036  64450234                      12 flacon(s) en verre de 1 ml   \n",
       "1943  69565055  flacon(s) polyéthylène haute densité (PEHD) de...   \n",
       "1984  69243759  flacon(s) polyéthylène haute densité (PEHD) de...   \n",
       "1985  69851117  flacon(s) polyéthylène haute densité (PEHD) de...   \n",
       "\n",
       "     Statut Administratif            Etat Commercialisation  \\\n",
       "3038  Présentation active  Déclaration de commercialisation   \n",
       "3036  Présentation active  Déclaration de commercialisation   \n",
       "1943  Présentation active  Déclaration de commercialisation   \n",
       "1984  Présentation active  Déclaration de commercialisation   \n",
       "1985  Présentation active  Déclaration de commercialisation   \n",
       "\n",
       "     Date Commercialisation Agrément  Taux de Remboursement  \\\n",
       "3038             2018-01-18      oui                   0.65   \n",
       "3036             2018-01-18      oui                   0.65   \n",
       "1943             2019-01-17      oui                   0.65   \n",
       "1984             2018-12-18      oui                   0.65   \n",
       "1985             2018-12-18      oui                   0.65   \n",
       "\n",
       "      Prix hors honoraire                             Dénomination  \\\n",
       "3038              53140.9  STRENSIQ 100 mg/ml, solution injectable   \n",
       "3036              26642.2   STRENSIQ 40 mg/ml, solution injectable   \n",
       "1943              20620.8                    LOJUXTA 20 mg, gélule   \n",
       "1984              20620.8                    LOJUXTA 10 mg, gélule   \n",
       "1985              20620.8                     LOJUXTA 5 mg, gélule   \n",
       "\n",
       "     Forme Pharmaceutique                        Titulaires  \\\n",
       "3038  solution injectable                    ALEXION EUROPE   \n",
       "3036  solution injectable                    ALEXION EUROPE   \n",
       "1943               gélule   AMRYT PHARMACEUTICALS (IRLANDE)   \n",
       "1984               gélule   AMRYT PHARMACEUTICALS (IRLANDE)   \n",
       "1985               gélule   AMRYT PHARMACEUTICALS (IRLANDE)   \n",
       "\n",
       "      Prix après remboursement  \n",
       "3038                 34541.585  \n",
       "3036                 17317.430  \n",
       "1943                 13403.520  \n",
       "1984                 13403.520  \n",
       "1985                 13403.520  "
      ]
     },
     "execution_count": 44,
     "metadata": {},
     "output_type": "execute_result"
    }
   ],
   "source": [
    "df_pres_comm['Prix après remboursement'] = df_pres_comm['Prix hors honoraire'] * df_pres_comm['Taux de Remboursement']\n",
    "df_pres_comm.sort_values('Prix après remboursement', ascending=False).iloc[:5]"
   ]
  },
  {
   "cell_type": "markdown",
   "metadata": {},
   "source": [
    " "
   ]
  },
  {
   "cell_type": "markdown",
   "metadata": {},
   "source": [
    "<img src='./oc2.png' width=15px /> Quels sont les titulaires dont le prix moyen du médicament (en statuf actif) est le plus élevé ?"
   ]
  },
  {
   "cell_type": "code",
   "execution_count": 45,
   "metadata": {},
   "outputs": [
    {
     "data": {
      "text/plain": [
       "Titulaires\n",
       " ALEXION EUROPE                       27635.925\n",
       " AMRYT PHARMACEUTICALS (IRLANDE)      20620.800\n",
       " NOUVEAU DEMANDEUR                    16081.400\n",
       " VERTEX PHARMACEUTICALS (IRELAND)     13456.100\n",
       " ALIMERA SCIENCES EUROPE (IRLANDE)     6035.800\n",
       "                                        ...    \n",
       " UPSA                                     1.462\n",
       " CILFA DEVELOPPEMENT                      1.420\n",
       " BOIRON                                   1.380\n",
       " BRIDOUX                                  1.200\n",
       " PHARMASTRA                               1.060\n",
       "Name: Prix hors honoraire, Length: 346, dtype: float64"
      ]
     },
     "execution_count": 45,
     "metadata": {},
     "output_type": "execute_result"
    }
   ],
   "source": [
    "df_pres_comm.groupby('Titulaires').mean()['Prix hors honoraire'].sort_values(ascending=False)"
   ]
  },
  {
   "cell_type": "markdown",
   "metadata": {},
   "source": [
    " "
   ]
  },
  {
   "cell_type": "markdown",
   "metadata": {},
   "source": [
    "<img src='./oc2.png' width=15px /> Quels sont les titulaires dont le taux de remboursement moyen est le plus bas ?"
   ]
  },
  {
   "cell_type": "code",
   "execution_count": 46,
   "metadata": {},
   "outputs": [
    {
     "data": {
      "text/plain": [
       "Titulaires\n",
       " UAB SICOR BIOTECH (LITUANIE)         1.00\n",
       " LEADIANT (ALLEMAGNE)                 1.00\n",
       " ASTELLAS PHARMA EUROPE (PAYS-BAS)    1.00\n",
       " CHUGAI PHARMA FRANCE                 1.00\n",
       " CINFA BIOTECH (ESPAGNE)              1.00\n",
       "                                      ... \n",
       " CILFA DEVELOPPEMENT                  0.15\n",
       " BRIDOUX                              0.15\n",
       " GIFRER BARBEZAT                      0.15\n",
       " BENE - ARZNEIMITTEL (ALLEMAGNE)      0.15\n",
       " BOIRON                               0.15\n",
       "Name: Taux de Remboursement, Length: 346, dtype: float64"
      ]
     },
     "execution_count": 46,
     "metadata": {},
     "output_type": "execute_result"
    }
   ],
   "source": [
    "df_pres_comm.groupby('Titulaires').mean()['Taux de Remboursement'].sort_values(ascending=False)"
   ]
  },
  {
   "cell_type": "markdown",
   "metadata": {},
   "source": [
    " "
   ]
  },
  {
   "cell_type": "markdown",
   "metadata": {},
   "source": [
    "## Bonus"
   ]
  },
  {
   "cell_type": "markdown",
   "metadata": {},
   "source": [
    "<img src='./oc2.png' width=15px /> On souhaite maintenant comparer les prix du paracetamol sous forme de comprimé pelliculé, dont l'autorisation de mise sur le marché est active et actuellement commercialisé.\n",
    "Il existe 18 médicaments de ce type, trouvez les !"
   ]
  },
  {
   "cell_type": "code",
   "execution_count": 47,
   "metadata": {},
   "outputs": [
    {
     "data": {
      "text/html": [
       "<div>\n",
       "<style scoped>\n",
       "    .dataframe tbody tr th:only-of-type {\n",
       "        vertical-align: middle;\n",
       "    }\n",
       "\n",
       "    .dataframe tbody tr th {\n",
       "        vertical-align: top;\n",
       "    }\n",
       "\n",
       "    .dataframe thead th {\n",
       "        text-align: right;\n",
       "    }\n",
       "</style>\n",
       "<table border=\"1\" class=\"dataframe\">\n",
       "  <thead>\n",
       "    <tr style=\"text-align: right;\">\n",
       "      <th></th>\n",
       "      <th>Dénomination</th>\n",
       "      <th>Titulaires</th>\n",
       "      <th>Prix hors honoraire</th>\n",
       "      <th>Taux de Remboursement</th>\n",
       "    </tr>\n",
       "  </thead>\n",
       "  <tbody>\n",
       "    <tr>\n",
       "      <th>1308</th>\n",
       "      <td>PARACETAMOL/CODEINE TEVA 500 mg/30 mg, comprim...</td>\n",
       "      <td>TEVA (PAYS-BAS)</td>\n",
       "      <td>1.72</td>\n",
       "      <td>0.65</td>\n",
       "    </tr>\n",
       "    <tr>\n",
       "      <th>2101</th>\n",
       "      <td>TRAMADOL/PARACETAMOL EVOLUGEN PHARMA 37,5 mg/3...</td>\n",
       "      <td>EVOLUPHARM</td>\n",
       "      <td>1.88</td>\n",
       "      <td>0.65</td>\n",
       "    </tr>\n",
       "    <tr>\n",
       "      <th>2198</th>\n",
       "      <td>TRAMADOL/PARACETAMOL BGR 37,5 mg/325 mg, compr...</td>\n",
       "      <td>BIOGARAN</td>\n",
       "      <td>1.88</td>\n",
       "      <td>0.65</td>\n",
       "    </tr>\n",
       "    <tr>\n",
       "      <th>2199</th>\n",
       "      <td>TRAMADOL/PARACETAMOL BGR 37,5 mg/325 mg, compr...</td>\n",
       "      <td>BIOGARAN</td>\n",
       "      <td>1.88</td>\n",
       "      <td>0.65</td>\n",
       "    </tr>\n",
       "    <tr>\n",
       "      <th>2261</th>\n",
       "      <td>TRAMADOL/PARACETAMOL MYLAN GENERIQUES 37,5 mg/...</td>\n",
       "      <td>LABORATOIRES GRUNENTHAL</td>\n",
       "      <td>1.88</td>\n",
       "      <td>0.65</td>\n",
       "    </tr>\n",
       "    <tr>\n",
       "      <th>2262</th>\n",
       "      <td>TRAMADOL/PARACETAMOL MYLAN GENERIQUES 37,5 mg/...</td>\n",
       "      <td>LABORATOIRES GRUNENTHAL</td>\n",
       "      <td>1.88</td>\n",
       "      <td>0.65</td>\n",
       "    </tr>\n",
       "    <tr>\n",
       "      <th>4742</th>\n",
       "      <td>TRAMADOL/PARACETAMOL ARROW LAB 37,5 mg/325 mg,...</td>\n",
       "      <td>ARROW GENERIQUES</td>\n",
       "      <td>1.88</td>\n",
       "      <td>0.65</td>\n",
       "    </tr>\n",
       "    <tr>\n",
       "      <th>5484</th>\n",
       "      <td>TRAMADOL/PARACETAMOL GERDA 37,5 mg/325 mg, com...</td>\n",
       "      <td>LABORATOIRES GERDA</td>\n",
       "      <td>1.88</td>\n",
       "      <td>0.65</td>\n",
       "    </tr>\n",
       "    <tr>\n",
       "      <th>5587</th>\n",
       "      <td>TRAMADOL/PARACETAMOL ZYDUS 37,5 mg/325 mg, com...</td>\n",
       "      <td>ZYDUS FRANCE</td>\n",
       "      <td>1.88</td>\n",
       "      <td>0.65</td>\n",
       "    </tr>\n",
       "    <tr>\n",
       "      <th>5886</th>\n",
       "      <td>TRAMADOL/PARACETAMOL EG LABO 37,5 mg/325 mg, c...</td>\n",
       "      <td>EG LABO - LABORATOIRES EUROGENERICS</td>\n",
       "      <td>1.88</td>\n",
       "      <td>0.65</td>\n",
       "    </tr>\n",
       "    <tr>\n",
       "      <th>6325</th>\n",
       "      <td>TRAMADOL PARACETAMOL EVOLUGEN 37,5 mg/325 mg, ...</td>\n",
       "      <td>EVOLUPHARM</td>\n",
       "      <td>1.88</td>\n",
       "      <td>0.65</td>\n",
       "    </tr>\n",
       "    <tr>\n",
       "      <th>6413</th>\n",
       "      <td>TRAMADOL/PARACETAMOL KRKA 37,5 mg/325 mg, comp...</td>\n",
       "      <td>KRKA (SLOVENIE)</td>\n",
       "      <td>1.88</td>\n",
       "      <td>0.65</td>\n",
       "    </tr>\n",
       "    <tr>\n",
       "      <th>6444</th>\n",
       "      <td>TRAMADOL/PARACETAMOL ARROW GENERIQUES 37,5 mg/...</td>\n",
       "      <td>ARROW GENERIQUES</td>\n",
       "      <td>1.88</td>\n",
       "      <td>0.65</td>\n",
       "    </tr>\n",
       "    <tr>\n",
       "      <th>6452</th>\n",
       "      <td>TRAMADOL/PARACETAMOL CRISTERS 37,5 mg/325 mg, ...</td>\n",
       "      <td>CRISTERS</td>\n",
       "      <td>1.88</td>\n",
       "      <td>0.65</td>\n",
       "    </tr>\n",
       "    <tr>\n",
       "      <th>6477</th>\n",
       "      <td>TRAMADOL/PARACETAMOL RANBAXY PHARMACIE GENERIQ...</td>\n",
       "      <td>RANBAXY PHARMACIE GENERIQUES</td>\n",
       "      <td>1.88</td>\n",
       "      <td>0.65</td>\n",
       "    </tr>\n",
       "    <tr>\n",
       "      <th>6521</th>\n",
       "      <td>TRAMADOL/PARACETAMOL TEVA 37.5 mg/325 mg, comp...</td>\n",
       "      <td>TEVA SANTE</td>\n",
       "      <td>1.88</td>\n",
       "      <td>0.65</td>\n",
       "    </tr>\n",
       "    <tr>\n",
       "      <th>6544</th>\n",
       "      <td>TRAMADOL/PARACETAMOL ZENTIVA 37,5 mg/325 mg, c...</td>\n",
       "      <td>LABORATOIRES GRUNENTHAL</td>\n",
       "      <td>1.88</td>\n",
       "      <td>0.65</td>\n",
       "    </tr>\n",
       "    <tr>\n",
       "      <th>6545</th>\n",
       "      <td>TRAMADOL/PARACETAMOL SANDOZ 37,5 mg/325 mg, co...</td>\n",
       "      <td>LABORATOIRES GRUNENTHAL</td>\n",
       "      <td>1.88</td>\n",
       "      <td>0.65</td>\n",
       "    </tr>\n",
       "  </tbody>\n",
       "</table>\n",
       "</div>"
      ],
      "text/plain": [
       "                                           Dénomination  \\\n",
       "1308  PARACETAMOL/CODEINE TEVA 500 mg/30 mg, comprim...   \n",
       "2101  TRAMADOL/PARACETAMOL EVOLUGEN PHARMA 37,5 mg/3...   \n",
       "2198  TRAMADOL/PARACETAMOL BGR 37,5 mg/325 mg, compr...   \n",
       "2199  TRAMADOL/PARACETAMOL BGR 37,5 mg/325 mg, compr...   \n",
       "2261  TRAMADOL/PARACETAMOL MYLAN GENERIQUES 37,5 mg/...   \n",
       "2262  TRAMADOL/PARACETAMOL MYLAN GENERIQUES 37,5 mg/...   \n",
       "4742  TRAMADOL/PARACETAMOL ARROW LAB 37,5 mg/325 mg,...   \n",
       "5484  TRAMADOL/PARACETAMOL GERDA 37,5 mg/325 mg, com...   \n",
       "5587  TRAMADOL/PARACETAMOL ZYDUS 37,5 mg/325 mg, com...   \n",
       "5886  TRAMADOL/PARACETAMOL EG LABO 37,5 mg/325 mg, c...   \n",
       "6325  TRAMADOL PARACETAMOL EVOLUGEN 37,5 mg/325 mg, ...   \n",
       "6413  TRAMADOL/PARACETAMOL KRKA 37,5 mg/325 mg, comp...   \n",
       "6444  TRAMADOL/PARACETAMOL ARROW GENERIQUES 37,5 mg/...   \n",
       "6452  TRAMADOL/PARACETAMOL CRISTERS 37,5 mg/325 mg, ...   \n",
       "6477  TRAMADOL/PARACETAMOL RANBAXY PHARMACIE GENERIQ...   \n",
       "6521  TRAMADOL/PARACETAMOL TEVA 37.5 mg/325 mg, comp...   \n",
       "6544  TRAMADOL/PARACETAMOL ZENTIVA 37,5 mg/325 mg, c...   \n",
       "6545  TRAMADOL/PARACETAMOL SANDOZ 37,5 mg/325 mg, co...   \n",
       "\n",
       "                                Titulaires  Prix hors honoraire  \\\n",
       "1308                       TEVA (PAYS-BAS)                 1.72   \n",
       "2101                            EVOLUPHARM                 1.88   \n",
       "2198                              BIOGARAN                 1.88   \n",
       "2199                              BIOGARAN                 1.88   \n",
       "2261               LABORATOIRES GRUNENTHAL                 1.88   \n",
       "2262               LABORATOIRES GRUNENTHAL                 1.88   \n",
       "4742                      ARROW GENERIQUES                 1.88   \n",
       "5484                    LABORATOIRES GERDA                 1.88   \n",
       "5587                          ZYDUS FRANCE                 1.88   \n",
       "5886   EG LABO - LABORATOIRES EUROGENERICS                 1.88   \n",
       "6325                            EVOLUPHARM                 1.88   \n",
       "6413                       KRKA (SLOVENIE)                 1.88   \n",
       "6444                      ARROW GENERIQUES                 1.88   \n",
       "6452                              CRISTERS                 1.88   \n",
       "6477          RANBAXY PHARMACIE GENERIQUES                 1.88   \n",
       "6521                            TEVA SANTE                 1.88   \n",
       "6544               LABORATOIRES GRUNENTHAL                 1.88   \n",
       "6545               LABORATOIRES GRUNENTHAL                 1.88   \n",
       "\n",
       "      Taux de Remboursement  \n",
       "1308                   0.65  \n",
       "2101                   0.65  \n",
       "2198                   0.65  \n",
       "2199                   0.65  \n",
       "2261                   0.65  \n",
       "2262                   0.65  \n",
       "4742                   0.65  \n",
       "5484                   0.65  \n",
       "5587                   0.65  \n",
       "5886                   0.65  \n",
       "6325                   0.65  \n",
       "6413                   0.65  \n",
       "6444                   0.65  \n",
       "6452                   0.65  \n",
       "6477                   0.65  \n",
       "6521                   0.65  \n",
       "6544                   0.65  \n",
       "6545                   0.65  "
      ]
     },
     "execution_count": 47,
     "metadata": {},
     "output_type": "execute_result"
    }
   ],
   "source": [
    "df_paracetamol = find_med(df_pres_spe, 'paracetamol')\n",
    "df_paracetamol = df_paracetamol[df_paracetamol['Statut Administratif'] == 'Présentation active']\n",
    "df_paracetamol = df_paracetamol[df_paracetamol['Forme Pharmaceutique'] == 'comprimé pelliculé']\n",
    "df_paracetamol = df_paracetamol[df_paracetamol['Etat Commercialisation'] == 'Déclaration de commercialisation']\n",
    "\n",
    "# récupération des prix et taux de remboursement\n",
    "df_paracetamol[['Dénomination', 'Titulaires', 'Prix hors honoraire', 'Taux de Remboursement']]"
   ]
  },
  {
   "cell_type": "markdown",
   "metadata": {},
   "source": [
    " "
   ]
  },
  {
   "cell_type": "markdown",
   "metadata": {},
   "source": [
    "<img src='./oc2.png' width=15px /> Écrivez une fonction qui pour un mot clé donné et une forme pharmaceutique donnée, retourne le prix moyen (avec honoraire) des médicaments commercialisés et actifs."
   ]
  },
  {
   "cell_type": "code",
   "execution_count": 48,
   "metadata": {},
   "outputs": [],
   "source": [
    "def mean_price_by_keyword(df, keyword, forme):\n",
    "    df_keyword = find_med(df, keyword)\n",
    "    df_keyword = df_keyword[df_keyword['Statut Administratif'] == 'Présentation active']\n",
    "    df_keyword = df_keyword[df_keyword['Forme Pharmaceutique'] == forme]\n",
    "    df_keyword = df_keyword[df_keyword['Etat Commercialisation'] == 'Déclaration de commercialisation']\n",
    "    return df_keyword['Prix hors honoraire'].mean()"
   ]
  },
  {
   "cell_type": "markdown",
   "metadata": {},
   "source": [
    " "
   ]
  },
  {
   "cell_type": "markdown",
   "metadata": {},
   "source": [
    "<img src='./oc2.png' width=15px /> Testez cette fonction pour le paracetamol"
   ]
  },
  {
   "cell_type": "code",
   "execution_count": 49,
   "metadata": {},
   "outputs": [
    {
     "data": {
      "text/plain": [
       "1.8711111111111112"
      ]
     },
     "execution_count": 49,
     "metadata": {},
     "output_type": "execute_result"
    }
   ],
   "source": [
    "mean_price_by_keyword(df_pres_spe, 'paracetamol', 'comprimé pelliculé')"
   ]
  },
  {
   "cell_type": "markdown",
   "metadata": {},
   "source": [
    " "
   ]
  },
  {
   "cell_type": "markdown",
   "metadata": {},
   "source": [
    "### Conclusion"
   ]
  },
  {
   "cell_type": "markdown",
   "metadata": {},
   "source": [
    "Nous n'avons pas encore mis en avant des faits précis, certains médicaments sont très coûteux, mais nous ne savons pas encore pour quelles raisons (identification des substances actives, rareté de la maladie). Cependant nous avons appris à nettoyer un jeu de données composé de plusieurs fichiers, afficher quelques informations importantes, mettre en place quelques fonctions pour extraire des données rapidement. \n",
    "\n",
    "C'est donc la fin d'une première phase d'analyse orientée dans l'exploration.\n",
    "\n",
    "**Les éléments mis en avant sont très subjectifs et ne peuvent pas permettre d'évaluer correctement de la qualité d'un médicament ou d'un fabricant. Pour établir un indicateur qualitatif, il faudrait dans un premier temps approfondir la recherche documentaire afin de lister les variables réflétant les bons ou mauvais comportements.**"
   ]
  },
  {
   "cell_type": "markdown",
   "metadata": {},
   "source": [
    "### Pour aller plus loin\n",
    "\n",
    "D'autres fichiers sont encore disponibles, par exemple le fichier des compositions, des avis rendus pour les autorités gouvernementales. On pourrait par exemple utiliser des méthodes d'analyse de texte afin de déterminer si certains avis sont positifs ou négatifs, calculer un score global par rapport à la présence de certaines substances actives."
   ]
  }
 ],
 "metadata": {
  "kernelspec": {
   "display_name": "Python 3",
   "language": "python",
   "name": "python3"
  },
  "language_info": {
   "codemirror_mode": {
    "name": "ipython",
    "version": 3
   },
   "file_extension": ".py",
   "mimetype": "text/x-python",
   "name": "python",
   "nbconvert_exporter": "python",
   "pygments_lexer": "ipython3",
   "version": "3.7.7"
  }
 },
 "nbformat": 4,
 "nbformat_minor": 4
}
